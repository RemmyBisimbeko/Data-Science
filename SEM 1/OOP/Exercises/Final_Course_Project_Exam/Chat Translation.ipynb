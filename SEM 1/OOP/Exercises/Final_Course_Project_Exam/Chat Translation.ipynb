{
 "cells": [
  {
   "cell_type": "markdown",
   "metadata": {},
   "source": [
    "## Final Course Project / Exam\n",
    "\n",
    "#### Remmy Bisimbeko - B26099 - J24M19/011\n",
    "#### My GitHub - https://github.com/RemmyBisimbeko/Data-Science\n",
    "\n",
    "#### 12. Chat Transcription\n",
    "* Chat Translation using a translation API: Build a chat translation tool that integrates with a translation API to facilitate real-time language translation in chat conversations, enabling users to communicate across different languages."
   ]
  },
  {
   "cell_type": "markdown",
   "metadata": {},
   "source": [
    "I chhose the Google Cloud Translation API. \n",
    "Thid requires us to sign up and enable the Translation API. I already had a Ggoogle Cloud Account so enabling was the only next step"
   ]
  },
  {
   "cell_type": "code",
   "execution_count": 1,
   "metadata": {},
   "outputs": [],
   "source": [
    "import os\n",
    "# Install and impot the Google Cloud Translation library\n",
    "from google.cloud import translate_v2 as translate"
   ]
  },
  {
   "cell_type": "markdown",
   "metadata": {},
   "source": [
    "I then developed a simple chat interface where users can input text messages and receive translated responses."
   ]
  },
  {
   "cell_type": "markdown",
   "metadata": {},
   "source": [
    "Next, write a function to translate text using the Translation API"
   ]
  },
  {
   "cell_type": "markdown",
   "metadata": {},
   "source": [
    "Finally, Test the functionality of the chat translation tool by running the chat_translation() function."
   ]
  },
  {
   "cell_type": "code",
   "execution_count": 2,
   "metadata": {},
   "outputs": [
    {
     "name": "stdout",
     "output_type": "stream",
     "text": [
      "Welcome to Chat Translation!\n",
      "Enter '/exit' to end the conversation.\n",
      "Translated:  Good morning\n",
      "Translated:  Hello Friends\n",
      "Translated:  \n",
      "Translated:  \n"
     ]
    }
   ],
   "source": [
    "\n",
    "def translate_text(text, target_language='en'):\n",
    "    \"\"\"\n",
    "    Translates the given text to the target language using Google Cloud Translation API.\n",
    "\n",
    "    Args:\n",
    "        text (str): The text to be translated.\n",
    "        target_language (str): The target language code. Default is 'en' (English).\n",
    "\n",
    "    Returns:\n",
    "        str: Translated text.\n",
    "    \"\"\"\n",
    "    client = translate.Client()\n",
    "    translation = client.translate(text, target_language=target_language)\n",
    "    return translation['translatedText']\n",
    "\n",
    "def chat_translation():\n",
    "    \"\"\"\n",
    "    Simulates a chat interface with translation capabilities.\n",
    "    \"\"\"\n",
    "    print(\"Welcome to Chat Translation!\")\n",
    "    print(\"Enter '/exit' to end the conversation.\")\n",
    "\n",
    "    while True:\n",
    "        user_input = input(\"You: \")\n",
    "        if user_input == '/exit':\n",
    "            print(\"Chat ended.\")\n",
    "            break\n",
    "        \n",
    "        translated_text = translate_text(user_input)\n",
    "        print(\"Translated: \", translated_text)\n",
    "\n",
    "if __name__ == \"__main__\":\n",
    "    # Set up authentication with Google Cloud Translation API\n",
    "    os.environ['GOOGLE_APPLICATION_CREDENTIALS'] = 'tusinike-b9b44-2da592e92e11.json'\n",
    "    \n",
    "    # Start the chat translation tool\n",
    "    chat_translation()\n"
   ]
  }
 ],
 "metadata": {
  "kernelspec": {
   "display_name": "Python 3",
   "language": "python",
   "name": "python3"
  },
  "language_info": {
   "codemirror_mode": {
    "name": "ipython",
    "version": 3
   },
   "file_extension": ".py",
   "mimetype": "text/x-python",
   "name": "python",
   "nbconvert_exporter": "python",
   "pygments_lexer": "ipython3",
   "version": "3.12.2"
  }
 },
 "nbformat": 4,
 "nbformat_minor": 2
}
