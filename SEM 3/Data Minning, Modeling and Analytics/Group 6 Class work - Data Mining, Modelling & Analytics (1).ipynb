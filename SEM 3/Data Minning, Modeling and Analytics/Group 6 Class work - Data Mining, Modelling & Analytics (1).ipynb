{
 "cells": [
  {
   "cell_type": "markdown",
   "metadata": {},
   "source": [
    "# Group 6\n",
    "\n",
    "### Ziria Nantaba\n",
    "### Gideon\n",
    "### Ester Asasira\n",
    "### Richard Kimaka\n",
    "\n"
   ]
  },
  {
   "cell_type": "markdown",
   "metadata": {},
   "source": [
    "## 1. Visit the NCHE website, and fetch the programs table. It is found at https://unche.or.ug/all-academic-programs/"
   ]
  },
  {
   "cell_type": "code",
   "execution_count": 1,
   "metadata": {},
   "outputs": [],
   "source": [
    "# import libraries \n",
    "\n",
    "import requests\n",
    "from bs4 import BeautifulSoup\n",
    "import pandas as pd"
   ]
  },
  {
   "cell_type": "markdown",
   "metadata": {},
   "source": [
    "## 2. Define / specify the url, header and request to fecth page content. "
   ]
  },
  {
   "cell_type": "code",
   "execution_count": 6,
   "metadata": {},
   "outputs": [],
   "source": [
    "\n",
    "\n",
    "# Define the URL of the webpage with tables\n",
    "url = \"https://unche.or.ug/all-academic-programs/\"  \n",
    "\n",
    "# Set headers to mimic a browser request\n",
    "headers = {\n",
    "    \"User-Agent\": \"Mozilla/5.0 (Windows NT 10.0; Win64; x64) AppleWebKit/537.36 (KHTML, like Gecko) Chrome/97.0.4692.99 Safari/537.36\"\n",
    "}\n",
    "\n",
    "# Send a GET request to fetch the page content\n",
    "response = requests.get(url, headers=headers)\n",
    "\n"
   ]
  },
  {
   "cell_type": "markdown",
   "metadata": {},
   "source": [
    "## 2.1.Structure the data/info save the result in a CSV format"
   ]
  },
  {
   "cell_type": "code",
   "execution_count": 9,
   "metadata": {},
   "outputs": [
    {
     "name": "stdout",
     "output_type": "stream",
     "text": [
      "                                           Program Name  \\\n",
      "0     Doctor of Philosophy in Agricultural and Appli...   \n",
      "1                            PhD in Development Studies   \n",
      "2                Doctor of Philosophy in Sports Science   \n",
      "3                     Doctor of Philosophy in Chemistry   \n",
      "4           Doctor of Philosophy in Biological Sciences   \n",
      "...                                                 ...   \n",
      "3097                     Bachelor of Business Computing   \n",
      "3098                  Diploma in Oil and Gas Management   \n",
      "3099  Master of Science in Wildlife Health and Manag...   \n",
      "3100               Diploma in Travel Tourism Management   \n",
      "3101                   Bachelor of Science in Economics   \n",
      "\n",
      "                                       Institution Name District  \\\n",
      "0                                       Gulu University     Gulu   \n",
      "1                              Bishop Stuart University  Mbarara   \n",
      "2                                   Kyambogo University  Kampala   \n",
      "3                                   Kyambogo University  Kampala   \n",
      "4                                   Kyambogo University  Kampala   \n",
      "...                                                 ...      ...   \n",
      "3097  Uganda Technology And Management University (U...  Kampala   \n",
      "3098  Global Institute of Information Technology & B...  Kampala   \n",
      "3099                                Makerere University  Kampala   \n",
      "3100                       YMCA Comprehensive Institute  Kampala   \n",
      "3101  Uganda Technology And Management University (U...  Kampala   \n",
      "\n",
      "     Accredited Date  Expiry Date        Status  \n",
      "0        21/Dec/2015  21/Dec/2025        Active  \n",
      "1        21/Dec/2015  21/Dec/2025        Active  \n",
      "2        21/Dec/2015  21/Dec/2025        Active  \n",
      "3        21/Dec/2015  21/Dec/2025        Active  \n",
      "4        21/Dec/2015  21/Dec/2025        Active  \n",
      "...              ...          ...           ...  \n",
      "3097     23/Jun/2014  23/Jun/2019  Under Review  \n",
      "3098     29/Jun/2015  29/Jun/2020  Under Review  \n",
      "3099     28/Aug/2017  28/Aug/2022  Under Review  \n",
      "3100     28/May/2018  28/May/2023  Under Review  \n",
      "3101     27/Aug/2018  27/Aug/2023  Under Review  \n",
      "\n",
      "[3102 rows x 6 columns]\n"
     ]
    }
   ],
   "source": [
    "# Check if the request was successful\n",
    "if response.status_code == 200:\n",
    "    # Parse the page content with BeautifulSoup\n",
    "    soup = BeautifulSoup(response.text, \"html.parser\")\n",
    "\n",
    "    # Find the table \n",
    "    table = soup.find(\"table\")  \n",
    "\n",
    "    # Extract table headers\n",
    "    headers = [th.text.strip() for th in table.find_all(\"th\")]\n",
    "    # Extract table rows\n",
    "    rows = []\n",
    "    for row in table.find_all(\"tr\")[1:]:  \n",
    "        cells = [td.text.strip() for td in row.find_all(\"td\")]\n",
    "        rows.append(cells)\n",
    "\n",
    "    # Convert data into a Pandas DataFrame\n",
    "    our_data = pd.DataFrame(rows, columns=headers)\n",
    "\n",
    "    # Print the extracted table\n",
    "    print(our_data)\n",
    "\n",
    "    # Save to CSV \n",
    "    our_data.to_csv(\"Group6.csv\", index=False)\n",
    "    \n",
    "else:\n",
    "    print(f\"You hve failed to retrieve data on the page. Please try again. Status Code: {response.status_code}\")"
   ]
  },
  {
   "cell_type": "markdown",
   "metadata": {},
   "source": [
    "## 3. Use the Pandas dataframe to read the CSV file save"
   ]
  },
  {
   "cell_type": "code",
   "execution_count": 10,
   "metadata": {},
   "outputs": [],
   "source": [
    "Group6_df=pd.read_csv(\"Group6.csv\")"
   ]
  },
  {
   "cell_type": "markdown",
   "metadata": {},
   "source": [
    "## 4. Display the first 10 rows in the dataset (e.g, df.head(10))"
   ]
  },
  {
   "cell_type": "code",
   "execution_count": 11,
   "metadata": {},
   "outputs": [
    {
     "data": {
      "text/html": [
       "<div>\n",
       "<style scoped>\n",
       "    .dataframe tbody tr th:only-of-type {\n",
       "        vertical-align: middle;\n",
       "    }\n",
       "\n",
       "    .dataframe tbody tr th {\n",
       "        vertical-align: top;\n",
       "    }\n",
       "\n",
       "    .dataframe thead th {\n",
       "        text-align: right;\n",
       "    }\n",
       "</style>\n",
       "<table border=\"1\" class=\"dataframe\">\n",
       "  <thead>\n",
       "    <tr style=\"text-align: right;\">\n",
       "      <th></th>\n",
       "      <th>Program Name</th>\n",
       "      <th>Institution Name</th>\n",
       "      <th>District</th>\n",
       "      <th>Accredited Date</th>\n",
       "      <th>Expiry Date</th>\n",
       "      <th>Status</th>\n",
       "    </tr>\n",
       "  </thead>\n",
       "  <tbody>\n",
       "    <tr>\n",
       "      <th>0</th>\n",
       "      <td>Doctor of Philosophy in Agricultural and Appli...</td>\n",
       "      <td>Gulu University</td>\n",
       "      <td>Gulu</td>\n",
       "      <td>21/Dec/2015</td>\n",
       "      <td>21/Dec/2025</td>\n",
       "      <td>Active</td>\n",
       "    </tr>\n",
       "    <tr>\n",
       "      <th>1</th>\n",
       "      <td>PhD in Development Studies</td>\n",
       "      <td>Bishop Stuart University</td>\n",
       "      <td>Mbarara</td>\n",
       "      <td>21/Dec/2015</td>\n",
       "      <td>21/Dec/2025</td>\n",
       "      <td>Active</td>\n",
       "    </tr>\n",
       "    <tr>\n",
       "      <th>2</th>\n",
       "      <td>Doctor of Philosophy in Sports Science</td>\n",
       "      <td>Kyambogo University</td>\n",
       "      <td>Kampala</td>\n",
       "      <td>21/Dec/2015</td>\n",
       "      <td>21/Dec/2025</td>\n",
       "      <td>Active</td>\n",
       "    </tr>\n",
       "    <tr>\n",
       "      <th>3</th>\n",
       "      <td>Doctor of Philosophy in Chemistry</td>\n",
       "      <td>Kyambogo University</td>\n",
       "      <td>Kampala</td>\n",
       "      <td>21/Dec/2015</td>\n",
       "      <td>21/Dec/2025</td>\n",
       "      <td>Active</td>\n",
       "    </tr>\n",
       "    <tr>\n",
       "      <th>4</th>\n",
       "      <td>Doctor of Philosophy in Biological Sciences</td>\n",
       "      <td>Kyambogo University</td>\n",
       "      <td>Kampala</td>\n",
       "      <td>21/Dec/2015</td>\n",
       "      <td>21/Dec/2025</td>\n",
       "      <td>Active</td>\n",
       "    </tr>\n",
       "    <tr>\n",
       "      <th>5</th>\n",
       "      <td>Doctor of Philosophy in Education</td>\n",
       "      <td>Kyambogo University</td>\n",
       "      <td>Kampala</td>\n",
       "      <td>21/Dec/2015</td>\n",
       "      <td>21/Dec/2025</td>\n",
       "      <td>Active</td>\n",
       "    </tr>\n",
       "    <tr>\n",
       "      <th>6</th>\n",
       "      <td>Doctor of Philosophy in Physics</td>\n",
       "      <td>Kyambogo University</td>\n",
       "      <td>Kampala</td>\n",
       "      <td>21/Dec/2015</td>\n",
       "      <td>21/Dec/2025</td>\n",
       "      <td>Active</td>\n",
       "    </tr>\n",
       "    <tr>\n",
       "      <th>7</th>\n",
       "      <td>Doctor of Philosophy in Religious Studies</td>\n",
       "      <td>Kyambogo University</td>\n",
       "      <td>Kampala</td>\n",
       "      <td>21/Dec/2015</td>\n",
       "      <td>21/Dec/2025</td>\n",
       "      <td>Active</td>\n",
       "    </tr>\n",
       "    <tr>\n",
       "      <th>8</th>\n",
       "      <td>Doctor of Philosophy by Research</td>\n",
       "      <td>Uganda Martyrs University</td>\n",
       "      <td>Mpigi</td>\n",
       "      <td>21/Dec/2015</td>\n",
       "      <td>21/Dec/2025</td>\n",
       "      <td>Active</td>\n",
       "    </tr>\n",
       "    <tr>\n",
       "      <th>9</th>\n",
       "      <td>Doctor of Philosophy in Theology</td>\n",
       "      <td>Uganda Christian University</td>\n",
       "      <td>Mukono</td>\n",
       "      <td>30/Mar/2016</td>\n",
       "      <td>30/Mar/2026</td>\n",
       "      <td>Active</td>\n",
       "    </tr>\n",
       "  </tbody>\n",
       "</table>\n",
       "</div>"
      ],
      "text/plain": [
       "                                        Program Name  \\\n",
       "0  Doctor of Philosophy in Agricultural and Appli...   \n",
       "1                         PhD in Development Studies   \n",
       "2             Doctor of Philosophy in Sports Science   \n",
       "3                  Doctor of Philosophy in Chemistry   \n",
       "4        Doctor of Philosophy in Biological Sciences   \n",
       "5                  Doctor of Philosophy in Education   \n",
       "6                    Doctor of Philosophy in Physics   \n",
       "7          Doctor of Philosophy in Religious Studies   \n",
       "8                   Doctor of Philosophy by Research   \n",
       "9                   Doctor of Philosophy in Theology   \n",
       "\n",
       "              Institution Name District Accredited Date  Expiry Date  Status  \n",
       "0              Gulu University     Gulu     21/Dec/2015  21/Dec/2025  Active  \n",
       "1     Bishop Stuart University  Mbarara     21/Dec/2015  21/Dec/2025  Active  \n",
       "2          Kyambogo University  Kampala     21/Dec/2015  21/Dec/2025  Active  \n",
       "3          Kyambogo University  Kampala     21/Dec/2015  21/Dec/2025  Active  \n",
       "4          Kyambogo University  Kampala     21/Dec/2015  21/Dec/2025  Active  \n",
       "5          Kyambogo University  Kampala     21/Dec/2015  21/Dec/2025  Active  \n",
       "6          Kyambogo University  Kampala     21/Dec/2015  21/Dec/2025  Active  \n",
       "7          Kyambogo University  Kampala     21/Dec/2015  21/Dec/2025  Active  \n",
       "8    Uganda Martyrs University    Mpigi     21/Dec/2015  21/Dec/2025  Active  \n",
       "9  Uganda Christian University   Mukono     30/Mar/2016  30/Mar/2026  Active  "
      ]
     },
     "execution_count": 11,
     "metadata": {},
     "output_type": "execute_result"
    }
   ],
   "source": [
    "Group6_df.head(10)"
   ]
  },
  {
   "cell_type": "code",
   "execution_count": null,
   "metadata": {},
   "outputs": [],
   "source": []
  },
  {
   "cell_type": "markdown",
   "metadata": {},
   "source": []
  }
 ],
 "metadata": {
  "kernelspec": {
   "display_name": "Python 3",
   "language": "python",
   "name": "python3"
  },
  "language_info": {
   "codemirror_mode": {
    "name": "ipython",
    "version": 3
   },
   "file_extension": ".py",
   "mimetype": "text/x-python",
   "name": "python",
   "nbconvert_exporter": "python",
   "pygments_lexer": "ipython3",
   "version": "3.10.9"
  }
 },
 "nbformat": 4,
 "nbformat_minor": 2
}
