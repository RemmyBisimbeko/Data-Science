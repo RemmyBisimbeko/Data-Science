{
 "cells": [
  {
   "cell_type": "markdown",
   "metadata": {},
   "source": [
    "## Excercise 3\n",
    "\n",
    "#### Write short notes accompanied with an example in each case on the following:\n",
    "* a) collections module\n",
    "* b) pickle module\n",
    "* c) sys module\n",
    "* d) re module\n",
    "* e) threading module\n",
    "* f) asyncio module\n",
    "* g) logging module\n",
    "* h) functools module"
   ]
  },
  {
   "cell_type": "markdown",
   "metadata": {},
   "source": [
    "#### Remmy Bisimbeko - B26099 - J24M19/011\n",
    "#### My GitHub - https://github.com/RemmyBisimbeko/Data-Science"
   ]
  },
  {
   "cell_type": "markdown",
   "metadata": {},
   "source": [
    "**a) collections module**\n",
    "\n",
    "**Description 1:**\n",
    "* The collections module in Python provides specialized data structures that are alternatives to the built-in data structures like lists, tuples, and dictionaries. These data structures offer additional functionality and are highly optimized for specific use cases.\n",
    "\n",
    "**Description 2:**\n",
    "* The collections module provides specialized container data types that enhance the functionality of built-in Python lists, dictionaries, and sets. These data types offer additional features and optimizations for specific use cases."
   ]
  },
  {
   "cell_type": "code",
   "execution_count": 1,
   "metadata": {},
   "outputs": [
    {
     "name": "stdout",
     "output_type": "stream",
     "text": [
      "deque([1, 2, 3], maxlen=3)\n",
      "deque([2, 3, 4], maxlen=3)\n"
     ]
    }
   ],
   "source": [
    "# Snippet Example 1:  \n",
    "\n",
    "import collections  # Importing the collections module\n",
    "\n",
    "# Define a deque (double-ended queue) with a maximum length of 3\n",
    "deque = collections.deque(maxlen=3)\n",
    "\n",
    "# Append elements to the deque\n",
    "deque.append(1)\n",
    "deque.append(2)\n",
    "deque.append(3)\n",
    "\n",
    "# Print the deque\n",
    "print(deque)  # Output: deque([1, 2, 3], maxlen=3)\n",
    "\n",
    "# Append another element, causing the first element to be removed\n",
    "deque.append(4)\n",
    "\n",
    "# Print the updated deque\n",
    "print(deque)  # Output: deque([2, 3, 4], maxlen=3)"
   ]
  },
  {
   "cell_type": "markdown",
   "metadata": {},
   "source": [
    "**Explanation:**\n",
    "\n",
    "* We import the collections module.\n",
    "* We create a deque object deque with a maximum length of 3.\n",
    "* We append elements to the deque using the append method.\n",
    "* The deque automatically discards the oldest element when a new element is appended and exceeds the maximum length."
   ]
  },
  {
   "cell_type": "code",
   "execution_count": 9,
   "metadata": {},
   "outputs": [
    {
     "name": "stdout",
     "output_type": "stream",
     "text": [
      "10 20\n",
      "0\n"
     ]
    }
   ],
   "source": [
    "# Snippet Example 2:\n",
    "\n",
    "from collections import namedtuple, defaultdict\n",
    "\n",
    "# Namedtuple: A convenient way to create custom data types with named fields\n",
    "Point = namedtuple('Point', ['x', 'y'])\n",
    "point1 = Point(10, 20)\n",
    "print(point1.x, point1.y)  # Output: 10 20\n",
    "\n",
    "# defaultdict: A dictionary that provides a default value if a key is not found\n",
    "default_dict = defaultdict(int)\n",
    "default_dict['key1'] = 10\n",
    "print(default_dict['key2'])  # Output: 0 (default value for missing keys)\n"
   ]
  },
  {
   "cell_type": "markdown",
   "metadata": {},
   "source": [
    "**b) pickle module**\n",
    "\n",
    "**Description 1:**\n",
    "* The pickle module in Python is used for serializing and deserializing Python objects. Serialization is the process of converting Python objects into a byte stream, and deserialization is the process of converting the byte stream back into Python objects. Pickle allows objects to be saved to a file and later restored, preserving their internal structure.\n",
    "\n",
    "\n",
    "**Description 2:**\n",
    "* The pickle module allows you to serialize (convert) Python objects into a byte stream and deserialize (reconstruct) them back into objects later. This is useful for persisting data (storing it in a file) or sending objects over a network.\n",
    "Note, however, there are Security concerns that exist with pickle. Preference is made for with caution and only with trusted data sources. Consider alternatives like json or dill for more control and security."
   ]
  },
  {
   "cell_type": "code",
   "execution_count": 2,
   "metadata": {},
   "outputs": [
    {
     "name": "stdout",
     "output_type": "stream",
     "text": [
      "{'name': 'John', 'age': 30, 'city': 'New York'}\n"
     ]
    }
   ],
   "source": [
    "# Snippet Example 1:\n",
    "\n",
    "import pickle  # Importing the pickle module\n",
    "\n",
    "# Define a dictionary\n",
    "data = {'name': 'John', 'age': 30, 'city': 'New York'}\n",
    "\n",
    "# Serialize the dictionary and save it to a file\n",
    "with open('data.pickle', 'wb') as file:\n",
    "    pickle.dump(data, file)\n",
    "\n",
    "# Deserialize the data from the file\n",
    "with open('data.pickle', 'rb') as file:\n",
    "    loaded_data = pickle.load(file)\n",
    "\n",
    "# Print the deserialized data\n",
    "print(loaded_data)  # Output: {'name': 'John', 'age': 30, 'city': 'New York'}"
   ]
  },
  {
   "cell_type": "markdown",
   "metadata": {},
   "source": [
    "**Explanation:**\n",
    "\n",
    "* We import the pickle module.\n",
    "* We define a dictionary data.\n",
    "* We serialize the dictionary using pickle.dump and save it to a file named data.pickle.\n",
    "* We deserialize the data from the file using pickle.load.\n",
    "Finally, we print the deserialized data."
   ]
  },
  {
   "cell_type": "code",
   "execution_count": null,
   "metadata": {},
   "outputs": [],
   "source": [
    "# Snippet Exam,ple 2:\n",
    "\n",
    "import pickle\n",
    "\n",
    "# Object to serialize\n",
    "data = {'name': 'Alice', 'age': 30}\n",
    "\n",
    "# Serialization (writing to a file)\n",
    "with open('data.pickle', 'wb') as f:\n",
    "    pickle.dump(data, f)\n",
    "\n",
    "# Deserialization (reading from a file)\n",
    "with open('data.pickle', 'rb') as f:\n",
    "    loaded_data = pickle.load(f)\n",
    "\n",
    "print(loaded_data)  # Output: {'name': 'Alice', 'age': 30}\n"
   ]
  },
  {
   "cell_type": "markdown",
   "metadata": {},
   "source": [
    "**c) sys module**\n",
    "\n",
    "**Description 1:**\n",
    "* The sys module in Python provides access to some variables used or maintained by the Python interpreter and to functions that interact strongly with the interpreter. It allows us to manipulate the Python runtime environment, access command-line arguments, and interact with the Python interpreter.\n",
    "\n",
    "**Description 2:**\n",
    "* The sys module provides access to system-specific parameters and functions. This includes interacting with command-line arguments, standard input/output (stdin/stdout), and system paths."
   ]
  },
  {
   "cell_type": "code",
   "execution_count": 16,
   "metadata": {},
   "outputs": [
    {
     "name": "stdout",
     "output_type": "stream",
     "text": [
      "Path to my Python interpreter:  /usr/local/opt/python@3.12/bin/python3.12\n",
      "Comand Line args passed to script:  ['/usr/local/lib/python3.12/site-packages/ipykernel_launcher.py', '--f=/Users/remmy/Library/Jupyter/runtime/kernel-v2-96185VJPMGWjTFtsu.json']\n"
     ]
    }
   ],
   "source": [
    "# Snippet Example 1:\n",
    "\n",
    "import sys  # Importing the sys module\n",
    "\n",
    "# Print the path to the Python interpreter\n",
    "print(\"Path to my Python interpreter: \", sys.executable)\n",
    "\n",
    "# Print the command-line arguments passed to the script\n",
    "print(\"Comand Line args passed to script: \", sys.argv)\n"
   ]
  },
  {
   "cell_type": "markdown",
   "metadata": {},
   "source": [
    "**Explanation:**\n",
    "\n",
    "* We import the sys module.\n",
    "* We use sys.executable to print the path to the Python interpreter.\n",
    "* We use sys.argv to print the list of command-line arguments passed to the script."
   ]
  },
  {
   "cell_type": "code",
   "execution_count": 13,
   "metadata": {},
   "outputs": [
    {
     "name": "stdout",
     "output_type": "stream",
     "text": [
      "First argument: --f=/Users/remmy/Library/Jupyter/runtime/kernel-v2-96185VJPMGWjTFtsu.json\n",
      "Standard output: Hello, world!\n",
      "Directory where script is:  /Users/remmy/Documents/Projects/Data-Science/OOP/Exercises/Exercise 2\n"
     ]
    }
   ],
   "source": [
    "# Snippet Example 2:\n",
    "\n",
    "import sys\n",
    "\n",
    "# Accessing command-line arguments\n",
    "if len(sys.argv) > 1:\n",
    "    print(\"First argument:\", sys.argv[1])\n",
    "\n",
    "# Writing to standard output (stdout)\n",
    "print(\"Standard output: \" + \"Hello, world!\")\n",
    "\n",
    "# Getting the script's absolute path\n",
    "print(\"Directory where script is: \", sys.path[0])  # Prints the directory where the script is located\n"
   ]
  },
  {
   "cell_type": "markdown",
   "metadata": {},
   "source": [
    "**d) re module**\n",
    "\n",
    "**Description 1:**\n",
    "* The re module in Python provides support for regular expressions, which are a powerful tool for searching and manipulating strings. Regular expressions are patterns that describe sets of strings. With the re module, you can search for patterns within strings, replace substrings, and perform other text-processing tasks.\n",
    "\n",
    "**Description 2:**\n",
    "* The re module (regular expressions) provides tools for matching patterns in strings. It's powerful for tasks like text validation, data extraction, and string manipulation."
   ]
  },
  {
   "cell_type": "code",
   "execution_count": 18,
   "metadata": {},
   "outputs": [
    {
     "name": "stdout",
     "output_type": "stream",
     "text": [
      "['2', '5', '6', '7', '0', '1', '6', '5', '0', '4', '6', '1']\n"
     ]
    }
   ],
   "source": [
    "# Snippet Example 1:\n",
    "\n",
    "import re  # Importing the re module\n",
    "\n",
    "# Define a string containing a phone number\n",
    "phone_number = '256-701-650-461'\n",
    "\n",
    "# Use a regular expression to find all digits in the phone number\n",
    "digits = re.findall(r'\\d', phone_number)\n",
    "\n",
    "# Print the digits found\n",
    "print(digits)  # Output: ['1', '2', '3', '4', '5', '6', '7', '8', '9', '0']\n"
   ]
  },
  {
   "cell_type": "markdown",
   "metadata": {},
   "source": [
    "**Explanation:**\n",
    "\n",
    "* We import the re module.\n",
    "* We define a string phone_number containing a phone number.\n",
    "* We use the re.findall function with the regular expression \\d to find all digits in the phone number.\n",
    "* The findall function returns a list of all non-overlapping matches of the pattern in the string."
   ]
  },
  {
   "cell_type": "code",
   "execution_count": 19,
   "metadata": {},
   "outputs": [
    {
     "name": "stdout",
     "output_type": "stream",
     "text": [
      "My phone number is 256-701-650-461.\n"
     ]
    }
   ],
   "source": [
    "# Snippet Example 2:\n",
    "\n",
    "import re\n",
    "\n",
    "# Matching a phone number pattern\n",
    "phone_pattern = r\"\\d{3}-\\d{3}-\\d{4}\"\n",
    "text = \"My phone number is 256-701-650-461.\"\n",
    "\n",
    "match = re.search(phone_pattern, text)\n",
    "if match:\n",
    "    print(\"Phone number found:\", match.group())  # Output: Phone number found: 256-701-650-461\n",
    "\n",
    "# Replacing all occurrences of \"world\" with \"universe\"\n",
    "new_text = re.sub(r\"world\", \"universe\", text)\n",
    "print(new_text)  # Output: My phone number is 256-701-650-461.\n"
   ]
  },
  {
   "cell_type": "markdown",
   "metadata": {},
   "source": [
    "**e) threading module**\n",
    "\n",
    "**Description 1:**\n",
    "* The threading module in Python provides a way to create lightweight, independent threads of execution. * Threads allow multiple functions to execute concurrently within a single process. This can be useful for tasks such as handling input/output operations or performing background processing while the main program continues to run.\n",
    "\n",
    "**Description 2:**\n",
    "* The threading module provides tools for creating and managing threads. Threads allow you to run multiple tasks concurrently within a single Python process."
   ]
  },
  {
   "cell_type": "code",
   "execution_count": 20,
   "metadata": {},
   "outputs": [
    {
     "name": "stdout",
     "output_type": "stream",
     "text": [
      "1\n",
      "2\n",
      "3\n",
      "4\n",
      "5\n"
     ]
    }
   ],
   "source": [
    "# Snippet Example:\n",
    "\n",
    "import threading  # Importing the threading module\n",
    "\n",
    "# Define a function to print numbers from 1 to 5\n",
    "def print_numbers():\n",
    "    for i in range(1, 6):\n",
    "        print(i)\n",
    "\n",
    "# Create a thread to execute the print_numbers function\n",
    "thread = threading.Thread(target=print_numbers)\n",
    "\n",
    "# Start the thread\n",
    "thread.start()\n"
   ]
  },
  {
   "cell_type": "markdown",
   "metadata": {},
   "source": [
    "**Explanation:**\n",
    "\n",
    "* We import the threading module.\n",
    "* We define a function print_numbers that prints numbers from 1 to 5.\n",
    "* We create a thread thread with threading.Thread, passing the target argument as the print_numbers function.\n",
    "* We start the thread using the start method."
   ]
  },
  {
   "cell_type": "markdown",
   "metadata": {},
   "source": [
    "**f) asyncio module**\n",
    "\n",
    "**Description 1:**\n",
    "* The asyncio module in Python provides support for asynchronous I/O, allowing multiple tasks to run concurrently within a single thread. It is particularly useful for I/O-bound and high-level structured network code. asyncio uses coroutines to manage asynchronous programming.\n",
    "\n",
    "**Description 2:**\n",
    "* The asyncio module provides asynchronous programming capabilities. Asynchronous programming is a programming paradigm that allows a program to handle multiple tasks without blocking (waiting for one task to finish before starting another)."
   ]
  },
  {
   "cell_type": "code",
   "execution_count": 26,
   "metadata": {},
   "outputs": [
    {
     "ename": "RuntimeError",
     "evalue": "asyncio.run() cannot be called from a running event loop",
     "output_type": "error",
     "traceback": [
      "\u001b[0;31m---------------------------------------------------------------------------\u001b[0m",
      "\u001b[0;31mRuntimeError\u001b[0m                              Traceback (most recent call last)",
      "Cell \u001b[0;32mIn[26], line 16\u001b[0m\n\u001b[1;32m     13\u001b[0m     asyncio\u001b[38;5;241m.\u001b[39mrun(greet())\n\u001b[1;32m     15\u001b[0m \u001b[38;5;28;01mif\u001b[39;00m \u001b[38;5;18m__name__\u001b[39m \u001b[38;5;241m==\u001b[39m \u001b[38;5;124m\"\u001b[39m\u001b[38;5;124m__main__\u001b[39m\u001b[38;5;124m\"\u001b[39m:\n\u001b[0;32m---> 16\u001b[0m     \u001b[43mmain\u001b[49m\u001b[43m(\u001b[49m\u001b[43m)\u001b[49m\n",
      "Cell \u001b[0;32mIn[26], line 13\u001b[0m, in \u001b[0;36mmain\u001b[0;34m()\u001b[0m\n\u001b[1;32m     11\u001b[0m \u001b[38;5;28;01mdef\u001b[39;00m \u001b[38;5;21mmain\u001b[39m():\n\u001b[1;32m     12\u001b[0m     \u001b[38;5;66;03m# Run the coroutine function in an event loop\u001b[39;00m\n\u001b[0;32m---> 13\u001b[0m     \u001b[43masyncio\u001b[49m\u001b[38;5;241;43m.\u001b[39;49m\u001b[43mrun\u001b[49m\u001b[43m(\u001b[49m\u001b[43mgreet\u001b[49m\u001b[43m(\u001b[49m\u001b[43m)\u001b[49m\u001b[43m)\u001b[49m\n",
      "File \u001b[0;32m/usr/local/Cellar/python@3.12/3.12.2_1/Frameworks/Python.framework/Versions/3.12/lib/python3.12/asyncio/runners.py:190\u001b[0m, in \u001b[0;36mrun\u001b[0;34m(main, debug, loop_factory)\u001b[0m\n\u001b[1;32m    161\u001b[0m \u001b[38;5;250m\u001b[39m\u001b[38;5;124;03m\"\"\"Execute the coroutine and return the result.\u001b[39;00m\n\u001b[1;32m    162\u001b[0m \n\u001b[1;32m    163\u001b[0m \u001b[38;5;124;03mThis function runs the passed coroutine, taking care of\u001b[39;00m\n\u001b[0;32m   (...)\u001b[0m\n\u001b[1;32m    186\u001b[0m \u001b[38;5;124;03m    asyncio.run(main())\u001b[39;00m\n\u001b[1;32m    187\u001b[0m \u001b[38;5;124;03m\"\"\"\u001b[39;00m\n\u001b[1;32m    188\u001b[0m \u001b[38;5;28;01mif\u001b[39;00m events\u001b[38;5;241m.\u001b[39m_get_running_loop() \u001b[38;5;129;01mis\u001b[39;00m \u001b[38;5;129;01mnot\u001b[39;00m \u001b[38;5;28;01mNone\u001b[39;00m:\n\u001b[1;32m    189\u001b[0m     \u001b[38;5;66;03m# fail fast with short traceback\u001b[39;00m\n\u001b[0;32m--> 190\u001b[0m     \u001b[38;5;28;01mraise\u001b[39;00m \u001b[38;5;167;01mRuntimeError\u001b[39;00m(\n\u001b[1;32m    191\u001b[0m         \u001b[38;5;124m\"\u001b[39m\u001b[38;5;124masyncio.run() cannot be called from a running event loop\u001b[39m\u001b[38;5;124m\"\u001b[39m)\n\u001b[1;32m    193\u001b[0m \u001b[38;5;28;01mwith\u001b[39;00m Runner(debug\u001b[38;5;241m=\u001b[39mdebug, loop_factory\u001b[38;5;241m=\u001b[39mloop_factory) \u001b[38;5;28;01mas\u001b[39;00m runner:\n\u001b[1;32m    194\u001b[0m     \u001b[38;5;28;01mreturn\u001b[39;00m runner\u001b[38;5;241m.\u001b[39mrun(main)\n",
      "\u001b[0;31mRuntimeError\u001b[0m: asyncio.run() cannot be called from a running event loop"
     ]
    }
   ],
   "source": [
    "# Snippet Example:\n",
    "# This runs in an independent .py file\n",
    "\n",
    "import asyncio # Importing the asyncio module\n",
    "\n",
    "# Define a coroutine function\n",
    "async def greet():\n",
    "    print(\"Hello\")\n",
    "    await asyncio.sleep(1)\n",
    "    print(\"World\")\n",
    "\n",
    "def main():\n",
    "    # Run the coroutine function in an event loop\n",
    "    asyncio.run(greet())\n",
    "\n",
    "if __name__ == \"__main__\":\n",
    "    main()"
   ]
  },
  {
   "cell_type": "code",
   "execution_count": 28,
   "metadata": {},
   "outputs": [
    {
     "name": "stdout",
     "output_type": "stream",
     "text": [
      "Hello\n",
      "World\n"
     ]
    }
   ],
   "source": [
    "# Snippet Example 2: \n",
    "# Work around\n",
    "import asyncio\n",
    "\n",
    "async def greet():\n",
    "    print(\"Hello\")\n",
    "    await asyncio.sleep(1)\n",
    "    print(\"World\")\n",
    "\n",
    "async def main():\n",
    "    await greet()\n",
    "\n",
    "# Run the event loop with the main coroutine\n",
    "await main()"
   ]
  },
  {
   "cell_type": "markdown",
   "metadata": {},
   "source": [
    "**Explanation:**\n",
    "\n",
    "* We import the asyncio module.\n",
    "* We define a coroutine function greet using the async keyword.\n",
    "* Inside the coroutine, we print \"Hello\", then asynchronously sleep for 1 second using asyncio.sleep, and finally print \"World\".\n",
    "* We run the coroutine function in an event loop using asyncio.run."
   ]
  },
  {
   "cell_type": "markdown",
   "metadata": {},
   "source": [
    "**g) logging module**\n",
    "\n",
    "**Description 1:**\n",
    "* The logging module in Python provides a flexible framework for emitting log messages from Python programs. It allows developers to log messages of varying severity levels to different destinations (e.g., console, file) and customize the formatting of log messages. Logging is a crucial aspect of debugging and monitoring applications.\n",
    "\n",
    "**Description 2:**\n",
    "* The logging module offers a way to create structured logs that record events and messages at different levels (e.g., DEBUG, INFO, WARNING, ERROR, CRITICAL). This is helpful for debugging, monitoring, and auditing purposes."
   ]
  },
  {
   "cell_type": "code",
   "execution_count": 23,
   "metadata": {},
   "outputs": [
    {
     "name": "stderr",
     "output_type": "stream",
     "text": [
      "INFO:root:This is an information message\n"
     ]
    }
   ],
   "source": [
    "\n",
    "# Snippet Example:\n",
    "\n",
    "import logging  # Importing the logging module\n",
    "\n",
    "# Configure the logging module\n",
    "logging.basicConfig(level=logging.INFO)\n",
    "\n",
    "# Log a message with INFO level\n",
    "logging.info(\"This is an information message\")"
   ]
  },
  {
   "cell_type": "markdown",
   "metadata": {},
   "source": [
    "**Explanation:**\n",
    "\n",
    "* We import the logging module.\n",
    "* We configure the logging module using logging.basicConfig, specifying the logging level as logging.INFO.\n",
    "* We log a message with INFO level using logging.info."
   ]
  },
  {
   "cell_type": "markdown",
   "metadata": {},
   "source": [
    "**h) functools module**\n",
    "\n",
    "**Description 1:**\n",
    "* The functools module in Python provides higher-order functions and operations on callable objects (functions, methods, etc.). It includes tools for creating and manipulating functions, such as partial function application, caching, and function composition.\n",
    "\n",
    "**Description 2:**\n",
    "* The functools module provides higher-order functions that operate on other functions. These functions can be used to decorate functions (modify their behavior), create memoization"
   ]
  },
  {
   "cell_type": "markdown",
   "metadata": {},
   "source": [
    "\n",
    "\n",
    "#### Sources for Object-Oriented Programming (OOP) Concepts and Python Module Explanations\n",
    "\n",
    "Here are the sources I used to create the explanations and code snippets for the OOP-related concepts in Python:\n",
    "\n",
    "**a) collections module**\n",
    "\n",
    "* Official Documentation: [https://docs.python.org/3/library/collections.html](https://docs.python.org/3/library/collections.html)\n",
    "* Tutorial with Examples: [https://realpython.com/lessons/use-namedtuple/](https://realpython.com/lessons/use-namedtuple/)\n",
    "\n",
    "**b) pickle module**\n",
    "\n",
    "* Official Documentation: [https://python.readthedocs.io/en/latest/library/pickle.html](https://python.readthedocs.io/en/latest/library/pickle.html)\n",
    "* Warning about Security: [https://medium.com/ochrona/python-pickle-is-notoriously-insecure-d6651f1974c9](https://medium.com/ochrona/python-pickle-is-notoriously-insecure-d6651f1974c9)\n",
    "* Alternatives to Pickle: [https://stackoverflow.com/questions/2259270/pickle-or-json](https://stackoverflow.com/questions/2259270/pickle-or-json)\n",
    "\n",
    "**c) sys module**\n",
    "\n",
    "* Official Documentation: [https://docs.python.org/](https://docs.python.org/)\n",
    "* Tutorial with Examples: [https://www.w3schools.com/python/python_modules.asp](https://www.w3schools.com/python/python_modules.asp)\n",
    "\n",
    "**d) re module**\n",
    "\n",
    "* Official Documentation: [https://docs.python.org/3/library/re.html](https://docs.python.org/3/library/re.html)\n",
    "* Tutorial with Examples: [https://docs.python.org/3/library/re.html](https://docs.python.org/3/library/re.html)\n",
    "\n",
    "These modules are part of the Python Standard Library and come pre-installed with most Python environments. Their official documentation is a valuable resource for learning more about their functionalities and advanced usage.\n",
    "\n",
    "* **threading module:** [https://docs.python.org/3/library/threading.html](https://docs.python.org/3/library/threading.html)\n",
    "* **asyncio module:** [https://docs.python.org/3/library/asyncio.html](https://docs.python.org/3/library/asyncio.html)\n",
    "* **logging module:** [https://docs.python.org/3/library/logging.html](https://docs.python.org/3/library/logging.html)\n",
    "* **functools module:** [https://docs.python.org/3/library/functools.html](https://docs.python.org/3/library/functools.html)\n"
   ]
  }
 ],
 "metadata": {
  "kernelspec": {
   "display_name": "Python 3",
   "language": "python",
   "name": "python3"
  },
  "language_info": {
   "codemirror_mode": {
    "name": "ipython",
    "version": 3
   },
   "file_extension": ".py",
   "mimetype": "text/x-python",
   "name": "python",
   "nbconvert_exporter": "python",
   "pygments_lexer": "ipython3",
   "version": "3.12.2"
  }
 },
 "nbformat": 4,
 "nbformat_minor": 2
}
