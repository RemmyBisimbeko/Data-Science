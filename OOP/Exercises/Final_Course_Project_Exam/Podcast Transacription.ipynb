{
 "cells": [
  {
   "cell_type": "markdown",
   "metadata": {},
   "source": [
    "## Final Course Project / Exam\n",
    "\n",
    "#### Remmy Bisimbeko - B26099 - J24M19/011\n",
    "#### My GitHub - https://github.com/RemmyBisimbeko/Data-Science\n",
    "\n",
    "#### 11. Podcast Transcription\n",
    "* Podcast Transcription using a speech-to-text API: Create a podcast transcription tool that transcribes podcast episodes into text using a speech-to-text API, making podcasts more accessible and searchable."
   ]
  },
  {
   "cell_type": "markdown",
   "metadata": {},
   "source": [
    "\n",
    "So, I downloaded a short clip file for me to transcribe it.\n",
    "I used  a speech-to-text API to play and transcribr it.\n",
    "\n",
    "This code transcribes the provided MP3 audio file using the Google Speech Recognition service. "
   ]
  },
  {
   "cell_type": "code",
   "execution_count": 1,
   "metadata": {},
   "outputs": [],
   "source": [
    "import speech_recognition as sr"
   ]
  },
  {
   "cell_type": "code",
   "execution_count": 2,
   "metadata": {},
   "outputs": [],
   "source": [
    "def transcribe_audio(audio_file_path):\n",
    "    # Initialize the recognizer\n",
    "    recognizer = sr.Recognizer()\n",
    "    \n",
    "    # Load the audio file\n",
    "    with sr.AudioFile(audio_file_path) as source:\n",
    "        audio_data = recognizer.record(source)  # Read the entire audio file\n",
    "        \n",
    "    # Perform speech recognition\n",
    "    try:\n",
    "        transcribed_text = recognizer.recognize_google(audio_data)\n",
    "        return transcribed_text\n",
    "    except sr.UnknownValueError:\n",
    "        print(\"Speech recognition could not understand the audio\")\n",
    "        return None\n",
    "    except sr.RequestError as e:\n",
    "        print(f\"Could not request results from Google Speech Recognition service; {e}\")\n",
    "        return None"
   ]
  },
  {
   "cell_type": "code",
   "execution_count": 3,
   "metadata": {},
   "outputs": [
    {
     "name": "stdout",
     "output_type": "stream",
     "text": [
      "Transcribed Text:\n",
      "you've been acting really weird lately\n"
     ]
    }
   ],
   "source": [
    "\n",
    "sample_audio_file = \"sample podcast audio file.wav\"\n",
    "\n",
    "transcribed_text = transcribe_audio(sample_audio_file)\n",
    "if transcribed_text:\n",
    "    print(\"Transcribed Text:\")\n",
    "    print(transcribed_text)"
   ]
  }
 ],
 "metadata": {
  "kernelspec": {
   "display_name": "Python 3",
   "language": "python",
   "name": "python3"
  },
  "language_info": {
   "codemirror_mode": {
    "name": "ipython",
    "version": 3
   },
   "file_extension": ".py",
   "mimetype": "text/x-python",
   "name": "python",
   "nbconvert_exporter": "python",
   "pygments_lexer": "ipython3",
   "version": "3.12.2"
  }
 },
 "nbformat": 4,
 "nbformat_minor": 2
}
