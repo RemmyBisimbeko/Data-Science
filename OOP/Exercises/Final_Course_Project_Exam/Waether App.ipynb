{
 "cells": [
  {
   "cell_type": "markdown",
   "metadata": {},
   "source": [
    "## Final Course Project / Exam\n",
    "\n",
    "#### Remmy Bisimbeko - B26099 - J24M19/011\n",
    "#### My GitHub - https://github.com/RemmyBisimbeko/Data-Science\n",
    "\n",
    "#### 1. Weather App\n",
    "* Weather App using the weather API: Develop a weather application that fetches real-time weather data from a weather API and displays weather information for a specific location, such as temperature, humidity, wind speed, and forecasts."
   ]
  },
  {
   "cell_type": "markdown",
   "metadata": {},
   "source": [
    "Here, I am going to develop the Weather App using the OpenWeatherMap API, as follows.\n",
    "First, I need to set up our environment and install necessary libraries:"
   ]
  },
  {
   "cell_type": "code",
   "execution_count": 11,
   "metadata": {},
   "outputs": [],
   "source": [
    "# Install required libraries\n",
    "\n",
    "import requests\n",
    "import json\n",
    "import matplotlib.pyplot as plt\n",
    "import pandas as pd"
   ]
  },
  {
   "cell_type": "markdown",
   "metadata": {},
   "source": [
    "Then we start creating functions to interact with the OpenWeatherMap API"
   ]
  },
  {
   "cell_type": "code",
   "execution_count": 20,
   "metadata": {},
   "outputs": [],
   "source": [
    "def fetch_weather_data(api_key, city_name, country_code='ug'):\n",
    "    \"\"\"\n",
    "    Fetches weather data from OpenWeatherMap API for a specific city.\n",
    "    \n",
    "    Parameters:\n",
    "    - api_key: API key for OpenWeatherMap\n",
    "    - city_name: Name of the city\n",
    "    - country_code: Country code (default is 'ug' for Uganda)\n",
    "    \n",
    "    Returns:\n",
    "    - Weather data in JSON format\n",
    "    \"\"\"\n",
    "    base_url = 'http://api.openweathermap.org/data/2.5/weather'\n",
    "    params = {\n",
    "        'q': f'{city_name},{country_code}',\n",
    "        'appid': api_key,\n",
    "        'units': 'metric'  # Using Celsius for temperature\n",
    "    }\n",
    "    response = requests.get(base_url, params=params)\n",
    "    return response.json()\n",
    "\n",
    "def display_weather_info(weather_data):\n",
    "    \"\"\"\n",
    "    Displays weather information fetched from OpenWeatherMap API.\n",
    "    \n",
    "    Parameters:\n",
    "    - weather_data: Weather data in JSON format\n",
    "    \"\"\"\n",
    "    try:\n",
    "        city_name = weather_data['name']\n",
    "        temperature = weather_data['main']['temp']\n",
    "        humidity = weather_data['main']['humidity']\n",
    "        wind_speed = weather_data['wind']['speed']\n",
    "        \n",
    "        print('Weather Information:')\n",
    "        print(f\"City: {city_name}\")\n",
    "        print(f\"Temperature: {temperature} °C\")\n",
    "        print(f\"Humidity: {humidity} %\")\n",
    "        print(f\"Wind Speed: {wind_speed} m/s\")\n",
    "    except KeyError as e:\n",
    "        print(f\"Error: {e}. Weather data is incomplete or unavailable.\")\n",
    "\n",
    "def plot_hourly_weather_forecast(weather_data):\n",
    "    \"\"\"\n",
    "    Plots the hourly weather forecast for the next 24 hours.\n",
    "\n",
    "    Parameters:\n",
    "    - weather_data: Weather data in JSON format\n",
    "    \"\"\"\n",
    "    try:\n",
    "        # Extract forecast data\n",
    "        hourly_forecast = weather_data.get('hourly', [])  # Use .get() to handle missing 'hourly' key\n",
    "        timestamps = [pd.to_datetime(f['dt'], unit='s') for f in hourly_forecast]\n",
    "        temperatures = [f['temp'] for f in hourly_forecast]\n",
    "\n",
    "        # Plot forecast\n",
    "        plt.figure(figsize=(10, 6))\n",
    "        plt.plot(timestamps, temperatures, marker='o')\n",
    "        plt.title('Hourly Weather Forecast for the next 24 hours')\n",
    "        plt.xlabel('Time')\n",
    "        plt.ylabel('Temperature (°C)')\n",
    "        plt.xticks(rotation=45)\n",
    "        plt.grid(True)\n",
    "        plt.tight_layout()\n",
    "        plt.show()\n",
    "    except KeyError as e:\n",
    "        print(f\"Error: {e}. Hourly forecast data is not available.\")\n"
   ]
  },
  {
   "cell_type": "markdown",
   "metadata": {},
   "source": [
    "After, let's fetch real-time weather data for a specific location (e.g., Kampala, Uganda) using the OpenWeatherMap API\n",
    "\n",
    "Input your OpenWeatherMap API key. Additionally, the fetch_weather_data function can be reused to fetch weather data for different cities in Uganda.\n",
    "\n",
    "Executing the code below should show us real-time weather information and a 5-day forecast plotted for Kampala, Uganda. This demonstrates the functionality of the Weather App using the OpenWeatherMap API."
   ]
  },
  {
   "cell_type": "code",
   "execution_count": 21,
   "metadata": {},
   "outputs": [
    {
     "name": "stdout",
     "output_type": "stream",
     "text": [
      "Weather Information:\n",
      "City: Kampala\n",
      "Temperature: 27.66 °C\n",
      "Humidity: 39 %\n",
      "Wind Speed: 4.47 m/s\n"
     ]
    },
    {
     "data": {
      "image/png": "[encoded data removed]",
      "text/plain": [
       "<Figure size 1000x600 with 1 Axes>"
      ]
     },
     "metadata": {},
     "output_type": "display_data"
    }
   ],
   "source": [
    "# API key for OpenWeatherMap \n",
    "api_key = '3d810fdbd8f77c9ac45b30f4acdfe671'\n",
    "\n",
    "# Fetch weather data for Kampala, Uganda\n",
    "kampala_weather = fetch_weather_data(api_key, 'kampala')\n",
    "\n",
    "# Display weather information\n",
    "display_weather_info(kampala_weather)\n",
    "\n",
    "# Plot hourly weather forecast\n",
    "plot_hourly_weather_forecast(kampala_weather)\n"
   ]
  }
 ],
 "metadata": {
  "kernelspec": {
   "display_name": "Python 3",
   "language": "python",
   "name": "python3"
  },
  "language_info": {
   "codemirror_mode": {
    "name": "ipython",
    "version": 3
   },
   "file_extension": ".py",
   "mimetype": "text/x-python",
   "name": "python",
   "nbconvert_exporter": "python",
   "pygments_lexer": "ipython3",
   "version": "3.12.2"
  }
 },
 "nbformat": 4,
 "nbformat_minor": 2
}
