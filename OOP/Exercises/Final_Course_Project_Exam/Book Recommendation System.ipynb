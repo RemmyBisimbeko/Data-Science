{
 "cells": [
  {
   "cell_type": "markdown",
   "metadata": {},
   "source": [
    "## Final Course Project / Exam\n",
    "\n",
    "#### Remmy Bisimbeko - B26099 - J24M19/011\n",
    "#### My GitHub - https://github.com/RemmyBisimbeko/Data-Science\n",
    "\n",
    "#### 10. Book Recommendation System\n",
    "* Book Recommendation System using a book API: Develop a book recommendation system that uses a book API to suggest books based on user preferences, reading history, genres, authors, and ratings."
   ]
  },
  {
   "cell_type": "code",
   "execution_count": 1,
   "metadata": {},
   "outputs": [],
   "source": [
    "# Libs\n",
    "import requests"
   ]
  },
  {
   "cell_type": "code",
   "execution_count": 3,
   "metadata": {},
   "outputs": [
    {
     "name": "stdout",
     "output_type": "stream",
     "text": [
      "{'title': 'A World of Fiction', 'authors': ['Katherine Bode'], 'publisher': 'University of Michigan Press', 'published_date': '2018-07-05', 'description': 'Proposes a new basis for data-rich literary history', 'categories': ['Computers'], 'average_rating': 'N/A', 'ratings_count': 'N/A'}\n",
      "{'title': 'Creating Short Fiction', 'authors': ['Damon Knight'], 'publisher': 'Macmillan', 'published_date': '1997-03-15', 'description': \"Distilled from decades of teaching and practice, 'Creating Short Fiction' offers no-nonsense advise on structure, pacing, dialogue, getting ideas, and much more.\", 'categories': ['Language Arts & Disciplines'], 'average_rating': 'N/A', 'ratings_count': 'N/A'}\n",
      "{'title': 'Desire and Domestic Fiction', 'authors': ['Nancy Armstrong'], 'publisher': 'Oxford University Press', 'published_date': '1987-05-07', 'description': '\"A strikingly original treatment of the rise of the novel, Desire and Domestic Fiction makes a major contribution to feminist theory, to the understanding of the role of gender in culture and its relation to political change, and to studies in the history of the British novel. Its successful application of contemporary theory, especially its use of Foucault\\'s History of Sexuality, will interest scholars involved in the criticism of culture\"--Jacket.', 'categories': ['Desire in literature'], 'average_rating': 5, 'ratings_count': 1}\n",
      "{'title': 'The Course of True Love (and First Dates)', 'authors': ['Cassandra Clare'], 'publisher': 'Simon and Schuster', 'published_date': '2014-03-18', 'description': 'Magnus Bane and Alec Lightwood might fall in love—but first they have a first date. One of ten adventures in The Bane Chronicles. When Magnus Bane, warlock, meets Alec Lightwood, Shadowhunter, sparks fly. And what happens on their first date lights a flame... This standalone e-only short story illuminates the life of the enigmatic Magnus Bane, whose alluring personality populates the pages of the #1 New York Times bestselling series The Mortal Instruments and The Infernal Devices. This story in The Bane Chronicles, The Course of True Love (and First Dates), is written by Cassandra Clare.', 'categories': ['Juvenile Fiction'], 'average_rating': 'N/A', 'ratings_count': 'N/A'}\n",
      "{'title': 'The Life and Times of Major Fiction', 'authors': ['Jonathan Baumbach'], 'publisher': 'University of Alabama Press', 'published_date': '1986', 'description': 'The fourteen stories that make up Jonathan Baumbach\\'s eighth book of fiction deals with parents, children, love, basketball, billiards, reading, marriage, divorce--the essentials of everyday life which, through the author\\'s unique strategy of narrative, come to the reader in unexpected ways. Combining comedy and nightmare, these stories distinguish themselves by the charge of their imaginative life, their concern with language, and the play and replay of their form. \"Familiar Games\" describes a one-on-one basketball game between a 12-year-old boy and his mother, a match that evokes a childhood memory of sexual mystery; \"Passion?\" concerns the disrepair of a marriage that has presented itself to friends and the world as ideal; \"Children of Divorced Parents\" centers on the problematic career of a filmmaker who, after several failed marriages, continues to pursue the illusion of first love; and the title story, \"The Life and Times of Major Fiction,\" investigates the mysterious career of a literary confidence man, an impassioned lover of good books, whose life is itself a pastiche of the plots of major fictions.', 'categories': ['Fiction'], 'average_rating': 'N/A', 'ratings_count': 'N/A'}\n",
      "{'title': 'Get to the Point!', 'authors': ['Joel Schwartzberg'], 'publisher': 'Berrett-Koehler Publishers', 'published_date': '2017-10-16', 'description': 'Whether you want to improve your impact in speeches, staff meetings, pitches, emails, PowerPoint presentations, or any other communication setting, this book provides a novel approach that teaches you how to go from simply sharing a thought to making a difference. --', 'categories': ['Business & Economics'], 'average_rating': 'N/A', 'ratings_count': 'N/A'}\n",
      "{'title': 'History of Fiction in China', 'authors': ['Zhi Dao'], 'publisher': 'DeepLogic', 'published_date': 'N/A', 'description': 'The book provides highlights on the key concepts and trends of evolution in History of Fiction in China, as one of the series of books of “China Classified Histories”.', 'categories': ['History'], 'average_rating': 'N/A', 'ratings_count': 'N/A'}\n",
      "{'title': 'Reading and Mapping Fiction', 'authors': ['Sally Bushell'], 'publisher': 'Cambridge University Press', 'published_date': '2020-07-02', 'description': 'This book explores the power of the map in fiction and its centrality to meaning, from Treasure Island to Winnie-the-Pooh.', 'categories': ['Literary Criticism'], 'average_rating': 'N/A', 'ratings_count': 'N/A'}\n",
      "{'title': 'Exploring Science Through Science Fiction', 'authors': ['Barry B. Luokkala'], 'publisher': 'Springer Nature', 'published_date': '2019-11-01', 'description': 'How does Einstein’s description of space and time compare with Doctor Who? Can James Bond really escape from an armor-plated railroad car by cutting through the floor with a laser concealed in a wristwatch? What would it take to create a fully intelligent android, such as Star Trek’s Commander Data? Exploring Science Through Science Fiction addresses these and other intriguing questions, using science fiction as a springboard for discussing fundamental science concepts and cutting-edge science research. It includes references to original research papers, landmark scientific publications and technical documents, as well as a broad range of science literature at a more popular level. The revised second edition includes expanded discussions on topics such as gravitational waves and black holes, machine learning and quantum computing, gene editing, and more. In all, the second edition now features over 220 references to specific scenes in more than 160 sci-fi movies and TV episodes, spanning over 100 years of cinematic history. Designed as the primary text for a college-level course, this book will appeal to students across the fine arts, humanities, and hard sciences, as well as any reader with an interest in science and science fiction. Praise for the first edition: \"This journey from science fiction to science fact provides an engaging and surprisingly approachable read...\" (Jen Jenkins, Journal of Science Fiction, Vol. 2 (1), September 2017)', 'categories': ['Science'], 'average_rating': 'N/A', 'ratings_count': 'N/A'}\n",
      "{'title': 'Thoughts on the Gita', 'authors': ['Swami Vivekananda'], 'publisher': 'Advaita Ashrama (A Publication House of Ramakrishna Math, Belur Math)', 'published_date': '1963', 'description': 'The Bhagavad Gita is one of the most important scriptures of the Hindus. The very fact that this scripture has been commented upon by innumerable saints only highlights its great importance. This being the case, readers would find it deeply interesting to know what Swami Vivekananda had to say regarding it. In the pages of this booklet are found those wonderful ideas and authoritative statements regarding Gita by one who was aptly fit to bring out the hidden significance and essence of this great scripture. Published by Advaita Ashrama, a publication house of Ramakrishna Math, Belur Math, India.', 'categories': ['Religion'], 'average_rating': 'N/A', 'ratings_count': 'N/A'}\n"
     ]
    }
   ],
   "source": [
    "def fetch_books(query):\n",
    "    \"\"\"\n",
    "    Fetches books from the Google Books API based on the provided query.\n",
    "\n",
    "    Args:\n",
    "    query (str): The search query for books.\n",
    "\n",
    "    Returns:\n",
    "    list: A list of book items retrieved from the API.\n",
    "    \"\"\"\n",
    "    # Google Books API endpoint\n",
    "    url = 'https://www.googleapis.com/books/v1/volumes'\n",
    "    \n",
    "    # Parameters for the API request\n",
    "    params = {\n",
    "        'q': query,  # Search query\n",
    "        'maxResults': 10  # Maximum number of results to retrieve\n",
    "    }\n",
    "    \n",
    "    try:\n",
    "        # Make the HTTP GET request to the Google Books API\n",
    "        response = requests.get(url, params=params)\n",
    "        response.raise_for_status()  # Raise an exception for any HTTP errors\n",
    "        \n",
    "        # Parse the JSON response\n",
    "        data = response.json()\n",
    "        \n",
    "        # Extract relevant book information from the response\n",
    "        books = []\n",
    "        for item in data.get('items', []):\n",
    "            book_info = {\n",
    "                'title': item['volumeInfo'].get('title', 'N/A'),\n",
    "                'authors': item['volumeInfo'].get('authors', ['N/A']),\n",
    "                'publisher': item['volumeInfo'].get('publisher', 'N/A'),\n",
    "                'published_date': item['volumeInfo'].get('publishedDate', 'N/A'),\n",
    "                'description': item['volumeInfo'].get('description', 'N/A'),\n",
    "                'categories': item['volumeInfo'].get('categories', ['N/A']),\n",
    "                'average_rating': item['volumeInfo'].get('averageRating', 'N/A'),\n",
    "                'ratings_count': item['volumeInfo'].get('ratingsCount', 'N/A')\n",
    "            }\n",
    "            books.append(book_info)\n",
    "        \n",
    "        return books\n",
    "    \n",
    "    except requests.exceptions.RequestException as e:\n",
    "        print(f\"Failed to fetch books: {e}\")\n",
    "        return []\n",
    "\n",
    "# Request user input for the query\n",
    "user_query = input(\"Enter your search query: \")\n",
    "\n",
    "# Fetch books based on the user query\n",
    "books = fetch_books(user_query)\n",
    "\n",
    "# Display the fetched books\n",
    "for book in books:\n",
    "    print(book)\n"
   ]
  }
 ],
 "metadata": {
  "kernelspec": {
   "display_name": "Python 3",
   "language": "python",
   "name": "python3"
  },
  "language_info": {
   "codemirror_mode": {
    "name": "ipython",
    "version": 3
   },
   "file_extension": ".py",
   "mimetype": "text/x-python",
   "name": "python",
   "nbconvert_exporter": "python",
   "pygments_lexer": "ipython3",
   "version": "3.12.2"
  }
 },
 "nbformat": 4,
 "nbformat_minor": 2
}
