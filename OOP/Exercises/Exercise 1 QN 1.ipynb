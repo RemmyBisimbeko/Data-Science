{
 "cells": [
  {
   "cell_type": "markdown",
   "metadata": {},
   "source": [
    "### Question 1\n",
    "Attempt the project questioon “Write Your Own Multiplication Quiz” on page 226 of the book “Automate the boring stuff with python” by Al Sweigart."
   ]
  },
  {
   "cell_type": "markdown",
   "metadata": {},
   "source": [
    "## Remmy Bisimbeko - B26099 - J24M19/011\n",
    "My GitHub - https://github.com/RemmyBisimbeko/Data-Science"
   ]
  },
  {
   "cell_type": "code",
   "execution_count": 1,
   "metadata": {},
   "outputs": [
    {
     "name": "stdout",
     "output_type": "stream",
     "text": [
      "Welcome to the Multiplication Quiz!\n",
      "Correct!\n",
      "Correct!\n",
      "Correct!\n",
      "Correct!\n",
      "Correct!\n",
      "Correct!\n",
      "Correct!\n",
      "Correct!\n",
      "Correct!\n",
      "Correct!\n",
      "You got 10 out of 10 questions correct.\n"
     ]
    }
   ],
   "source": [
    "import random\n",
    "\n",
    "# Function to generate a multiplication question with random numbers\n",
    "def generate_question():\n",
    "    num1 = random.randint(0, 9)  # Pick a random number between 0 and 9 for the first number\n",
    "    num2 = random.randint(0, 9)  # Pick another random number between 0 and 9 for the second number\n",
    "    return num1, num2  # Return the two numbers for the question\n",
    "\n",
    "# Function to get the user's answer to the multiplication question\n",
    "def get_user_answer(num1, num2):\n",
    "    return int(input(f\"What is {num1} times {num2}? \"))  # Ask the user to answer the question and return their answer\n",
    "\n",
    "# Main function to run the quiz\n",
    "def main():\n",
    "    print(\"Welcome to the Multiplication Quiz!\")  # Welcome message\n",
    "    num_questions = int(input(\"How many questions do you want? \"))  # Ask the user how many questions they want\n",
    "\n",
    "    num_correct = 0  # Variable to count the number of correct answers\n",
    "    for _ in range(num_questions):  # Loop through each question\n",
    "        num1, num2 = generate_question()  # Generate a new question\n",
    "        user_answer = get_user_answer(num1, num2)  # Get the user's answer\n",
    "        correct_answer = num1 * num2  # Calculate the correct answer\n",
    "\n",
    "        if user_answer == correct_answer:  # Check if the user's answer is correct\n",
    "            print(\"Correct!\")  # Tell the user they got it right\n",
    "            num_correct += 1  # Increment the number of correct answers\n",
    "        else:\n",
    "            print(\"Incorrect.\")  # Tell the user they got it wrong\n",
    "\n",
    "    # Print the final score\n",
    "    print(f\"You got {num_correct} out of {num_questions} questions correct.\")\n",
    "\n",
    "# Entry point of the program\n",
    "if __name__ == \"__main__\":\n",
    "    main()  # Start the quiz\n"
   ]
  }
 ],
 "metadata": {
  "kernelspec": {
   "display_name": "Python 3",
   "language": "python",
   "name": "python3"
  },
  "language_info": {
   "codemirror_mode": {
    "name": "ipython",
    "version": 3
   },
   "file_extension": ".py",
   "mimetype": "text/x-python",
   "name": "python",
   "nbconvert_exporter": "python",
   "pygments_lexer": "ipython3",
   "version": "3.9.8"
  }
 },
 "nbformat": 4,
 "nbformat_minor": 2
}
