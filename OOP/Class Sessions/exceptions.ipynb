{
 "cells": [
  {
   "cell_type": "code",
   "execution_count": null,
   "id": "3c5dfb2e",
   "metadata": {},
   "outputs": [],
   "source": [
    "try:\n",
    "    pass\n",
    "except:\n",
    "    pass\n",
    "except:\n",
    "    pass\n",
    "...\n",
    "else:\n",
    "    pass\n",
    "finally:\n",
    "    pass"
   ]
  },
  {
   "cell_type": "code",
   "execution_count": 5,
   "id": "9ac06f05",
   "metadata": {},
   "outputs": [
    {
     "name": "stdout",
     "output_type": "stream",
     "text": [
      "11.5\n",
      "hello\n",
      "hello twice\n"
     ]
    }
   ],
   "source": [
    "try:\n",
    "    print(23/2)\n",
    "except ZeroDivisionError as ze:\n",
    "    print(ze)\n",
    "else:\n",
    "    print(\"hello\")\n",
    "finally:\n",
    "    print(\"hello twice\")"
   ]
  },
  {
   "cell_type": "code",
   "execution_count": 2,
   "id": "a1e57d52",
   "metadata": {},
   "outputs": [
    {
     "ename": "TypeError",
     "evalue": "object of type 'type' has no len()",
     "output_type": "error",
     "traceback": [
      "\u001b[1;31m---------------------------------------------------------------------------\u001b[0m",
      "\u001b[1;31mTypeError\u001b[0m                                 Traceback (most recent call last)",
      "\u001b[1;32m~\\AppData\\Local\\Temp\\ipykernel_30956\\1714385671.py\u001b[0m in \u001b[0;36m<module>\u001b[1;34m\u001b[0m\n\u001b[0;32m      1\u001b[0m \u001b[0mlst\u001b[0m \u001b[1;33m=\u001b[0m \u001b[1;33m[\u001b[0m\u001b[1;36m1\u001b[0m\u001b[1;33m,\u001b[0m\u001b[1;36m2\u001b[0m\u001b[1;33m,\u001b[0m\u001b[1;36m3\u001b[0m\u001b[1;33m,\u001b[0m\u001b[1;36m4\u001b[0m\u001b[1;33m,\u001b[0m\u001b[1;36m5\u001b[0m\u001b[1;33m,\u001b[0m\u001b[1;36m6\u001b[0m\u001b[1;33m,\u001b[0m\u001b[1;36m7\u001b[0m\u001b[1;33m,\u001b[0m\u001b[1;36m8\u001b[0m\u001b[1;33m,\u001b[0m\u001b[1;36m9\u001b[0m\u001b[1;33m,\u001b[0m\u001b[1;36m10\u001b[0m\u001b[1;33m]\u001b[0m\u001b[1;33m\u001b[0m\u001b[1;33m\u001b[0m\u001b[0m\n\u001b[0;32m      2\u001b[0m \u001b[0mi\u001b[0m \u001b[1;33m=\u001b[0m \u001b[1;36m15\u001b[0m\u001b[1;33m\u001b[0m\u001b[1;33m\u001b[0m\u001b[0m\n\u001b[1;32m----> 3\u001b[1;33m \u001b[1;32mif\u001b[0m \u001b[0mi\u001b[0m\u001b[1;33m>\u001b[0m\u001b[0mlen\u001b[0m\u001b[1;33m(\u001b[0m\u001b[0mlist\u001b[0m\u001b[1;33m)\u001b[0m\u001b[1;33m:\u001b[0m\u001b[1;33m\u001b[0m\u001b[1;33m\u001b[0m\u001b[0m\n\u001b[0m\u001b[0;32m      4\u001b[0m     \u001b[1;32mraise\u001b[0m \u001b[0mIndexError\u001b[0m\u001b[1;33m\u001b[0m\u001b[1;33m\u001b[0m\u001b[0m\n\u001b[0;32m      5\u001b[0m \u001b[1;32melse\u001b[0m\u001b[1;33m:\u001b[0m\u001b[1;33m\u001b[0m\u001b[1;33m\u001b[0m\u001b[0m\n",
      "\u001b[1;31mTypeError\u001b[0m: object of type 'type' has no len()"
     ]
    }
   ],
   "source": [
    "lst = [1,2,3,4,5,6,7,8,9,10]\n",
    "i = 15\n",
    "if i>len(list):\n",
    "    raise IndexError\n",
    "else:\n",
    "    print(\"whatever\")"
   ]
  },
  {
   "cell_type": "code",
   "execution_count": 9,
   "id": "c78e0d2e",
   "metadata": {},
   "outputs": [
    {
     "name": "stdout",
     "output_type": "stream",
     "text": [
      "Enter file namemyfile\n",
      "File myfile not found\n"
     ]
    }
   ],
   "source": [
    "while True:\n",
    "    try:\n",
    "        filename = input(\"Enter file name\")\n",
    "        with open(filename, 'r') as file:\n",
    "            mydata = file.read()\n",
    "            print(mydata)\n",
    "\n",
    "    except FileNotFoundError:\n",
    "        print(f'File {filename} not found')"
   ]
  },
  {
   "cell_type": "code",
   "execution_count": 11,
   "id": "a8adbf7a",
   "metadata": {},
   "outputs": [],
   "source": [
    "class Student:\n",
    "    def __init__(self, name, course):\n",
    "        if not name:\n",
    "            raise ValueError(\"Missing name\")\n",
    "        if course not in [\"cs\", \"ds\", \"IT\"]:\n",
    "            raise ValueError(\"course not there\")   \n",
    "        self.name = name\n",
    "        self.course = course\n",
    "        \n",
    "    def __str__():\n",
    "        return f\"My name is {self.name} and I am offering {self.course} course\"\n",
    "    \n",
    "def main():\n",
    "    student = get_student()\n",
    "    print(student)\n",
    "    \n",
    "def get_student():\n",
    "    name = input(\"Name: \")\n",
    "    course = input(\"Course: \")\n",
    "    return Student(name, course)\n",
    "\n",
    "if __name__ == \"main\":\n",
    "    main()"
   ]
  },
  {
   "cell_type": "code",
   "execution_count": 12,
   "id": "1344b106",
   "metadata": {},
   "outputs": [
    {
     "name": "stdout",
     "output_type": "stream",
     "text": [
      "What is the student's age: 2\n"
     ]
    },
    {
     "ename": "StudentOutofRangeError",
     "evalue": "2",
     "output_type": "error",
     "traceback": [
      "\u001b[1;31m---------------------------------------------------------------------------\u001b[0m",
      "\u001b[1;31mStudentOutofRangeError\u001b[0m                    Traceback (most recent call last)",
      "\u001b[1;32m~\\AppData\\Local\\Temp\\ipykernel_30956\\12076733.py\u001b[0m in \u001b[0;36m<module>\u001b[1;34m\u001b[0m\n\u001b[0;32m      6\u001b[0m \u001b[0mage\u001b[0m \u001b[1;33m=\u001b[0m \u001b[0mint\u001b[0m\u001b[1;33m(\u001b[0m\u001b[0minput\u001b[0m\u001b[1;33m(\u001b[0m\u001b[1;34m\"What is the student's age: \"\u001b[0m\u001b[1;33m)\u001b[0m\u001b[1;33m)\u001b[0m\u001b[1;33m\u001b[0m\u001b[1;33m\u001b[0m\u001b[0m\n\u001b[0;32m      7\u001b[0m \u001b[1;32mif\u001b[0m \u001b[1;32mnot\u001b[0m \u001b[1;36m6\u001b[0m \u001b[1;33m<\u001b[0m \u001b[0mage\u001b[0m \u001b[1;33m<\u001b[0m \u001b[1;36m8\u001b[0m\u001b[1;33m:\u001b[0m\u001b[1;33m\u001b[0m\u001b[1;33m\u001b[0m\u001b[0m\n\u001b[1;32m----> 8\u001b[1;33m     \u001b[1;32mraise\u001b[0m \u001b[0mStudentOutofRangeError\u001b[0m\u001b[1;33m(\u001b[0m\u001b[0mage\u001b[0m\u001b[1;33m)\u001b[0m\u001b[1;33m\u001b[0m\u001b[1;33m\u001b[0m\u001b[0m\n\u001b[0m\u001b[0;32m      9\u001b[0m \u001b[1;33m\u001b[0m\u001b[0m\n",
      "\u001b[1;31mStudentOutofRangeError\u001b[0m: 2"
     ]
    }
   ],
   "source": [
    "class StudentOutofRangeError(Exception):\n",
    "    def __init__(self, student_age, error_message= \"student age must be 6 to 8 years\"):\n",
    "        self.student_age = student_age\n",
    "        self.error_message = error_message\n",
    "        \n",
    "age = int(input(\"What is the student's age: \"))\n",
    "if not 6 < age < 8:\n",
    "    raise StudentOutofRangeError(age) as sor\n",
    "    print(sor)\n",
    "\n",
    "    "
   ]
  },
  {
   "cell_type": "code",
   "execution_count": 30,
   "id": "0497b469",
   "metadata": {},
   "outputs": [],
   "source": [
    "class Iterator:\n",
    "    def __init__(self, limit):\n",
    "        self.limit = limit\n",
    "    \n",
    "    def __iter__(self):\n",
    "        self.i = 0\n",
    "        return self\n",
    "    \n",
    "    def __next__(self):\n",
    "        if self.i <= self.limit:\n",
    "            nextvalue = self.i\n",
    "            self.i = self.i + 2\n",
    "            return nextvalue\n",
    "        else:\n",
    "            raise StopIteration"
   ]
  },
  {
   "cell_type": "code",
   "execution_count": 31,
   "id": "143fc193",
   "metadata": {},
   "outputs": [
    {
     "name": "stdout",
     "output_type": "stream",
     "text": [
      "0\n",
      "2\n",
      "4\n",
      "6\n",
      "8\n",
      "10\n",
      "12\n",
      "14\n",
      "16\n",
      "18\n",
      "20\n"
     ]
    }
   ],
   "source": [
    "for j in Iterator(20):\n",
    "    print(j)"
   ]
  },
  {
   "cell_type": "code",
   "execution_count": 33,
   "id": "bfec1a4f",
   "metadata": {},
   "outputs": [
    {
     "name": "stdout",
     "output_type": "stream",
     "text": [
      "how lines do you want to have? 10\n",
      "1\n",
      "2\n",
      "3\n",
      "4\n",
      "5\n",
      "6\n",
      "7\n",
      "8\n",
      "9\n",
      "10\n"
     ]
    }
   ],
   "source": [
    "from itertools import count\n",
    "own_inter = count(1)\n",
    "\n",
    "number = int(input(\"how lines do you want to have? \"))\n",
    "\n",
    "for i in range(number):\n",
    "    print(next(own_inter))\n"
   ]
  },
  {
   "cell_type": "markdown",
   "id": "1bdfab2c",
   "metadata": {},
   "source": [
    "### Functions"
   ]
  },
  {
   "cell_type": "code",
   "execution_count": 35,
   "id": "381a95c8",
   "metadata": {},
   "outputs": [
    {
     "data": {
      "text/plain": [
       "64"
      ]
     },
     "execution_count": 35,
     "metadata": {},
     "output_type": "execute_result"
    }
   ],
   "source": [
    "def square(number):\n",
    "    return number**2\n",
    "\n",
    "square(8)"
   ]
  },
  {
   "cell_type": "code",
   "execution_count": 37,
   "id": "7cba5002",
   "metadata": {},
   "outputs": [],
   "source": [
    "def square(number): return number**2"
   ]
  },
  {
   "cell_type": "code",
   "execution_count": 39,
   "id": "e14fbbbc",
   "metadata": {},
   "outputs": [
    {
     "data": {
      "text/plain": [
       "64"
      ]
     },
     "execution_count": 39,
     "metadata": {},
     "output_type": "execute_result"
    }
   ],
   "source": [
    "lamb = lambda number: number**2\n",
    "lamb(8)"
   ]
  },
  {
   "cell_type": "code",
   "execution_count": 41,
   "id": "42c9a511",
   "metadata": {},
   "outputs": [
    {
     "data": {
      "text/plain": [
       "[1, 4, 9, 16, 25, 36, 49, 64, 81]"
      ]
     },
     "execution_count": 41,
     "metadata": {},
     "output_type": "execute_result"
    }
   ],
   "source": [
    "lst = [1,2,3,4,5,6,7,8,9]\n",
    "lst2 = list(map(lamb,lst))\n",
    "lst2"
   ]
  },
  {
   "cell_type": "code",
   "execution_count": 43,
   "id": "79381de8",
   "metadata": {},
   "outputs": [
    {
     "data": {
      "text/plain": [
       "6"
      ]
     },
     "execution_count": 43,
     "metadata": {},
     "output_type": "execute_result"
    }
   ],
   "source": [
    "def myfuct(a,b):\n",
    "    return sum((a,b))\n",
    "\n",
    "myfuct(2,4)"
   ]
  },
  {
   "cell_type": "code",
   "execution_count": 50,
   "id": "9106daa7",
   "metadata": {},
   "outputs": [
    {
     "data": {
      "text/plain": [
       "11"
      ]
     },
     "execution_count": 50,
     "metadata": {},
     "output_type": "execute_result"
    }
   ],
   "source": [
    "def myfuct(a,b, c, e,f, g= 1, h=0):\n",
    "    return sum((a,b,c,e,f,g,h))\n",
    "\n",
    "myfuct(2,2,2,2,2)"
   ]
  },
  {
   "cell_type": "code",
   "execution_count": 55,
   "id": "db6a1096",
   "metadata": {},
   "outputs": [
    {
     "data": {
      "text/plain": [
       "30"
      ]
     },
     "execution_count": 55,
     "metadata": {},
     "output_type": "execute_result"
    }
   ],
   "source": [
    "def myfuct(*args):\n",
    "    return sum(args)\n",
    "\n",
    "myfuct(2,2,2,2,2,2,2,2,2,2,2,2,2,2,2)"
   ]
  },
  {
   "cell_type": "code",
   "execution_count": 57,
   "id": "7761d8a5",
   "metadata": {},
   "outputs": [
    {
     "name": "stdout",
     "output_type": "stream",
     "text": [
      "orange\n"
     ]
    }
   ],
   "source": [
    "def mykeyfunct(**kwargs):\n",
    "    if 'Fruit1' in kwargs:\n",
    "        print(f\"{kwargs['Fruit1']}\")\n",
    "    else:\n",
    "        print('Not there')\n",
    "\n",
    "mykeyfunct(Fruit1=\"orange\", Fruit2=\"Mango\")"
   ]
  },
  {
   "cell_type": "code",
   "execution_count": 61,
   "id": "a6c4022b",
   "metadata": {},
   "outputs": [
    {
     "name": "stdout",
     "output_type": "stream",
     "text": [
      "water, juice, wine and orange\n"
     ]
    }
   ],
   "source": [
    "def mymixedfunt(*args, **kwargs):\n",
    "        if 'Fruit1' in kwargs:\n",
    "            print(f\"{', '.join(args) } and {kwargs['Fruit1']}\")\n",
    "        else:\n",
    "            print('Not there')\n",
    "\n",
    "mymixedfunt('water', 'juice', 'wine', Fruit1=\"orange\", Fruit2=\"Mango\", Fruit3=\"Pineaple\" )"
   ]
  },
  {
   "cell_type": "code",
   "execution_count": 62,
   "id": "30a6bffe",
   "metadata": {},
   "outputs": [],
   "source": [
    "def hello(name='John'):\n",
    "    print('How are you')\n",
    "    def greetings():\n",
    "        return \"good morning\"\n",
    "    def thanks():\n",
    "        return \"Thank you!\"\n",
    "    print(greetings())\n",
    "    print(thanks())\n",
    "    print('I am hello function')"
   ]
  },
  {
   "cell_type": "code",
   "execution_count": 63,
   "id": "022b7bd8",
   "metadata": {},
   "outputs": [
    {
     "data": {
      "text/plain": [
       "<function __main__.hello(name='John')>"
      ]
     },
     "execution_count": 63,
     "metadata": {},
     "output_type": "execute_result"
    }
   ],
   "source": [
    "hello"
   ]
  },
  {
   "cell_type": "code",
   "execution_count": 68,
   "id": "9de29838",
   "metadata": {},
   "outputs": [
    {
     "name": "stdout",
     "output_type": "stream",
     "text": [
      "How are you\n",
      "good morning\n",
      "Thank you!\n",
      "I am hello function\n",
      "None\n"
     ]
    }
   ],
   "source": [
    "print(hello())"
   ]
  },
  {
   "cell_type": "code",
   "execution_count": 66,
   "id": "241bcfcb",
   "metadata": {},
   "outputs": [
    {
     "ename": "NameError",
     "evalue": "name 'greetings' is not defined",
     "output_type": "error",
     "traceback": [
      "\u001b[1;31m---------------------------------------------------------------------------\u001b[0m",
      "\u001b[1;31mNameError\u001b[0m                                 Traceback (most recent call last)",
      "\u001b[1;32m~\\AppData\\Local\\Temp\\ipykernel_30956\\3054644335.py\u001b[0m in \u001b[0;36m<module>\u001b[1;34m\u001b[0m\n\u001b[1;32m----> 1\u001b[1;33m \u001b[0mgreetings\u001b[0m\u001b[1;33m(\u001b[0m\u001b[1;33m)\u001b[0m\u001b[1;33m\u001b[0m\u001b[1;33m\u001b[0m\u001b[0m\n\u001b[0m",
      "\u001b[1;31mNameError\u001b[0m: name 'greetings' is not defined"
     ]
    }
   ],
   "source": [
    "greetings()"
   ]
  },
  {
   "cell_type": "code",
   "execution_count": 69,
   "id": "a70b4056",
   "metadata": {},
   "outputs": [],
   "source": [
    "def hello():\n",
    "    return 'hello there'\n",
    "def greetings(func):\n",
    "    print('greetings function')\n",
    "    print(func())"
   ]
  },
  {
   "cell_type": "code",
   "execution_count": 72,
   "id": "e9ec3a1f",
   "metadata": {},
   "outputs": [],
   "source": [
    "def decorator(func):\n",
    "    def wrapper():\n",
    "        print(\"The start of the wrapper\")\n",
    "        func()\n",
    "        print('greetings function')\n",
    "    \n",
    "    return wrapper"
   ]
  },
  {
   "cell_type": "code",
   "execution_count": 73,
   "id": "9352ebda",
   "metadata": {},
   "outputs": [],
   "source": [
    "def userfunc():\n",
    "    print(\"I use the decorator\")"
   ]
  },
  {
   "cell_type": "code",
   "execution_count": 74,
   "id": "cab9d66e",
   "metadata": {},
   "outputs": [],
   "source": [
    "user = decorator(userfunc)"
   ]
  },
  {
   "cell_type": "code",
   "execution_count": 75,
   "id": "2fa0b30d",
   "metadata": {},
   "outputs": [
    {
     "data": {
      "text/plain": [
       "function"
      ]
     },
     "execution_count": 75,
     "metadata": {},
     "output_type": "execute_result"
    }
   ],
   "source": [
    "type(user)"
   ]
  },
  {
   "cell_type": "code",
   "execution_count": 76,
   "id": "5fcad18a",
   "metadata": {},
   "outputs": [
    {
     "name": "stdout",
     "output_type": "stream",
     "text": [
      "The start of the wrapper\n",
      "I use the decorator\n",
      "greetings function\n",
      "None\n"
     ]
    }
   ],
   "source": [
    "print(user())"
   ]
  },
  {
   "cell_type": "code",
   "execution_count": 79,
   "id": "3cdfd76e",
   "metadata": {},
   "outputs": [],
   "source": [
    "def decorator(func):\n",
    "    def wrapper():\n",
    "        print(\"The start of the wrapper\")\n",
    "        func()\n",
    "        print('greetings function')\n",
    "    \n",
    "    return wrapper"
   ]
  },
  {
   "cell_type": "code",
   "execution_count": 80,
   "id": "7df71861",
   "metadata": {},
   "outputs": [],
   "source": [
    "@decorator\n",
    "def new_decorater_user():\n",
    "    print('I extend the wrapper function')"
   ]
  },
  {
   "cell_type": "code",
   "execution_count": 81,
   "id": "e9ef5f9e",
   "metadata": {},
   "outputs": [
    {
     "name": "stdout",
     "output_type": "stream",
     "text": [
      "The start of the wrapper\n",
      "I extend the wrapper function\n",
      "greetings function\n"
     ]
    }
   ],
   "source": [
    "new_decorater_user()"
   ]
  },
  {
   "cell_type": "code",
   "execution_count": 83,
   "id": "00f6321e",
   "metadata": {},
   "outputs": [
    {
     "name": "stdout",
     "output_type": "stream",
     "text": [
      "hello\n",
      "I have come in after 5 seconds\n"
     ]
    }
   ],
   "source": [
    "import time as t\n",
    "\n",
    "print(\"hello\")\n",
    "\n",
    "t.sleep(5)\n",
    "\n",
    "print(\"I have come in after 5 seconds\")\n"
   ]
  },
  {
   "cell_type": "code",
   "execution_count": 85,
   "id": "3ae10822",
   "metadata": {},
   "outputs": [
    {
     "name": "stdout",
     "output_type": "stream",
     "text": [
      "0.24869298934936523\n"
     ]
    }
   ],
   "source": [
    "start = t.time()\n",
    "\n",
    "for i in range(10000000):\n",
    "    pass\n",
    "\n",
    "end = t.time()\n",
    "\n",
    "print(end - start)"
   ]
  },
  {
   "cell_type": "code",
   "execution_count": 86,
   "id": "3df7658d",
   "metadata": {},
   "outputs": [
    {
     "name": "stdout",
     "output_type": "stream",
     "text": [
      "I Told Them...\n",
      "Love, Damini\n",
      "Twice As Tall\n",
      "African Giant\n",
      "Outside\n",
      "Redemption\n",
      "On a Spaceship\n",
      "L.I.F.E - Leaving an Impact for Eternity (Deluxe Edition)\n"
     ]
    }
   ],
   "source": [
    "import spotipy\n",
    "from spotipy.oauth2 import SpotifyClientCredentials\n",
    "\n",
    "burna_boy = 'https://open.spotify.com/artist/3wcj11K77LjEY1PkEazffa?si=qKHzdQMLQB-NK0d7ZbJsAA'\n",
    "spotify = spotipy.Spotify(client_credentials_manager=SpotifyClientCredentials(client_id=\"43cb3cca0cce496ca6c701c24c975978\", client_secret=\"3b29696531a74083bbce7e4b2954ec10\"))\n",
    "\n",
    "results = spotify.artist_albums(burna_boy, album_type='album')\n",
    "albums = results['items']\n",
    "while results['next']:\n",
    "    results = spotify.next(results)\n",
    "    albums.extend(results['items'])\n",
    "\n",
    "for album in albums:\n",
    "    print(album['name'])"
   ]
  },
  {
   "cell_type": "code",
   "execution_count": 87,
   "id": "b477d16e",
   "metadata": {},
   "outputs": [
    {
     "data": {
      "text/plain": [
       "dict"
      ]
     },
     "execution_count": 87,
     "metadata": {},
     "output_type": "execute_result"
    }
   ],
   "source": [
    "type(results)"
   ]
  },
  {
   "cell_type": "code",
   "execution_count": 88,
   "id": "11052d28",
   "metadata": {},
   "outputs": [
    {
     "data": {
      "text/plain": [
       "list"
      ]
     },
     "execution_count": 88,
     "metadata": {},
     "output_type": "execute_result"
    }
   ],
   "source": [
    "type(albums)"
   ]
  },
  {
   "cell_type": "code",
   "execution_count": null,
   "id": "f77a0a3b",
   "metadata": {},
   "outputs": [],
   "source": []
  }
 ],
 "metadata": {
  "kernelspec": {
   "display_name": "Python 3 (ipykernel)",
   "language": "python",
   "name": "python3"
  },
  "language_info": {
   "codemirror_mode": {
    "name": "ipython",
    "version": 3
   },
   "file_extension": ".py",
   "mimetype": "text/x-python",
   "name": "python",
   "nbconvert_exporter": "python",
   "pygments_lexer": "ipython3",
   "version": "3.9.13"
  }
 },
 "nbformat": 4,
 "nbformat_minor": 5
}
