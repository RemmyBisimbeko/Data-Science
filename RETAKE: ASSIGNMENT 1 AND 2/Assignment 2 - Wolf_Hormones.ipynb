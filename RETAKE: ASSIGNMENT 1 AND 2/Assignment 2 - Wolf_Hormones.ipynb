{
 "cells": [
  {
   "cell_type": "markdown",
   "metadata": {},
   "source": [
    "## Remmy Bisimbeko - B26099 - J24M19/011\n",
    "My GitHub - https://github.com/RemmyBisimbeko/Data-Science\n",
    "\n",
    "2. Wolf_Hormones.xlsx \n",
    "\n",
    "This dataset includes measurements of cortisol, testosterone, and progesterone hormones in wolf hair samples collected from hunters in the tundra-taiga and northern boreal forests of Canada.  Additional samples were collected from wolves killed as part of a control program in the boreal forest (Little Smoky area). Detailed descriptions of the variables can be found under the sheet \"Data_Descriptors\" within the excel book.\n",
    "\n",
    "Instructions:\n",
    "\n",
    "a) Predict the level of testosterone hormone among the wolves in the sheet labelled \"Test_Data1\" \n",
    "b) Predict the level of progesterone hormone among the female wolves in the sheet labelled \"Test_Data2\". "
   ]
  }
 ],
 "metadata": {
  "language_info": {
   "name": "python"
  }
 },
 "nbformat": 4,
 "nbformat_minor": 2
}
