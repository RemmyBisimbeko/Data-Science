{
 "cells": [
  {
   "cell_type": "markdown",
   "metadata": {},
   "source": [
    "# **Assignment TWO** "
   ]
  },
  {
   "cell_type": "markdown",
   "metadata": {},
   "source": [
    "### Remmy Bisimbeko - B26099 - J24M19/011\n",
    "#### Data Analysis and Visualization\n",
    "#### Ms. Immaculate Kamusiime\n",
    "#### My GitHub - https://github.com/RemmyBisimbeko/Data-Science"
   ]
  },
  {
   "cell_type": "markdown",
   "metadata": {},
   "source": [
    "# **QUESTION ONE**"
   ]
  },
  {
   "cell_type": "markdown",
   "metadata": {},
   "source": [
    "## Step-by-Step Approach:\n",
    "\n",
    "#### Step 1: Formulate Hypotheses\n",
    "* Null hypothesis (H0): μ1 = μ2 = μ3 (There is no significant difference in productivity scores among the three departments)\n",
    "\n",
    "* Alternative Hypothesis (H1): There is a significant difference in the mean productivity scores among the three departments.\n",
    "\n",
    "#### Step 2: Calculate the overall mean\n",
    "\n",
    "The overall mean is already given as 75.\n",
    "\n",
    "#### Step 3: Calculate the ANOVA Components\n",
    "* Total Sum of Squares (SST): Measures the total variability in the data.\n",
    "$$ SST = \\sum_{i=1}^{k} \\sum_{j=1}^{n_i} (X_{ij} - \\bar{X})^2 $$\n",
    "\n",
    "* Between-Group Sum of Squares (SSB): Measures the variability between the group means.\n",
    "$$ SSB = \\sum_{i=1}^{k} n_i (\\bar{X}_i - \\bar{X})^2 $$\n",
    "\n",
    "* Within-Group Sum of Squares (SSW): Measures the variability within each group.\n",
    "$$ SSW = \\sum_{i=1}^{k} \\sum_{j=1}^{n_i} (X_{ij} - \\bar{X}_i)^2 $$\n",
    "\n",
    "* Mean Squares:\n",
    "\n",
    "* **Mean Square Between (MSB):**\n",
    "$$ MSB = \\frac{SSB}{k - 1} $$\n",
    "\n",
    "* **Mean Square Within (MSW):**\n",
    "\n",
    "$$ MSW = \\frac{SSW}{N - k} $$\n",
    "\n",
    "* F-Statistic:\n",
    "$$ F = \\frac{MSB}{MSW} $$\n",
    "\n",
    "#### Step 4: Perform the Calculations\n",
    "* Number of groups (k): 3 (Sales, Marketing, IT)\n",
    "* Total number of observations (N): (3 \\times 40 = 120)\n",
    "\n",
    "* **Calculate SSB:**\n",
    "$$ SSB = 40 \\times (70 - 75)^2 + 40 \\times (75 - 75)^2 + 40 \\times (80 - 75)^2 $$\n",
    "\n",
    "$$ SSB = 40 \\times 25 + 40 \\times 0 + 40 \\times 25 = 2000 $$\n",
    "\n",
    "* **Calculate SSW:**\n",
    "$$ SSW = (40 - 1) \\times 15 + (40 - 1) \\times 20 + (40 - 1) \\times 25 $$\n",
    "\n",
    "$$ SSW = 39 \\times 15 + 39 \\times 20 + 39 \\times 25 = 585 + 780 + 975 = 2340 $$\n",
    "\n",
    "* **Calculate MSB and MSW:**\n",
    "$$ MSB = \\frac{SSB}{k - 1} = \\frac{2000}{3 - 1} = \\frac{2000}{2} = 1000 $$\n",
    "\n",
    "$$ MSW = \\frac{SSW}{N - k} = \\frac{2340}{120 - 3} = \\frac{2340}{117} \\approx 20 $$\n",
    "\n",
    "* **Calculate the F-Statistic:**\n",
    "$$ F = \\frac{MSB}{MSW} = \\frac{1000}{20} = 50 $$\n",
    "\n",
    "#### Step 5: Determine the Critical Value and Make a Decision\n",
    "Using an F-distribution table or a statistical calculator, determine the critical value for ( F_{2, 117} ) at a significance level of 0.05.\n",
    "\n",
    "* Degrees of freedom:\n",
    "\n",
    "* **Between groups: ( df_1 = k - 1 = 2 )**\n",
    "* **Within groups: ( df_2 = N - k = 117 )**\n",
    "\n",
    "* Critical value for ( F_{2, 117} ) at (\\alpha = 0.05): Approximately 3.07\n",
    "\n",
    "Since the calculated F-statistic (50) is much greater than the critical value (3.07), we reject the null hypothesis.\n",
    "\n",
    "#### Step 6: Conclusion\n",
    "There is a significant difference in the productivity scores among the three departments (Sales, Marketing, and IT) at the 0.05 significance level.\n",
    "\n",
    "Note: This is a hypothetical example, and in practice, you would use software or a calculator to perform the calculations. Additionally, you would also want to check the assumptions of ANOVA, such as normality and equal variances, before interpreting the results."
   ]
  },
  {
   "cell_type": "markdown",
   "metadata": {},
   "source": [
    "### Python Code Implementation:"
   ]
  },
  {
   "cell_type": "code",
   "execution_count": 15,
   "metadata": {},
   "outputs": [
    {
     "name": "stdout",
     "output_type": "stream",
     "text": [
      "SSB (Between-Group Sum of Squares): 2000\n",
      "SSW (Within-Group Sum of Squares): 2340\n",
      "MSB (Mean Square Between): 1000.0\n",
      "MSW (Mean Square Within): 20.0\n",
      "F-statistic: 50.0\n",
      "Critical value for F(2, 117) at alpha 0.05: 3.073762904449709\n",
      "Reject the null hypothesis. There are significant differences in productivity scores among the departments.\n"
     ]
    }
   ],
   "source": [
    "import scipy.stats as stats\n",
    "\n",
    "# Given data\n",
    "means = [70, 75, 80]\n",
    "overall_mean = 75\n",
    "n = 40\n",
    "variances = [15, 20, 25]\n",
    "\n",
    "# Number of groups and total observations\n",
    "k = len(means)\n",
    "N = k * n\n",
    "\n",
    "# Calculate SSB\n",
    "SSB = sum(n * (mean - overall_mean) ** 2 for mean in means)\n",
    "\n",
    "# Calculate SSW\n",
    "SSW = sum((n - 1) * var for var in variances)\n",
    "\n",
    "# Calculate MSB and MSW\n",
    "MSB = SSB / (k - 1)\n",
    "MSW = SSW / (N - k)\n",
    "\n",
    "# Calculate F-statistic\n",
    "F = MSB / MSW\n",
    "\n",
    "# Degrees of freedom\n",
    "df_between = k - 1\n",
    "df_within = N - k\n",
    "\n",
    "# Get the critical value from the F-distribution table\n",
    "alpha = 0.05\n",
    "F_critical = stats.f.ppf(1 - alpha, df_between, df_within)\n",
    "\n",
    "# Print the results\n",
    "print(f\"SSB (Between-Group Sum of Squares): {SSB}\")\n",
    "print(f\"SSW (Within-Group Sum of Squares): {SSW}\")\n",
    "print(f\"MSB (Mean Square Between): {MSB}\")\n",
    "print(f\"MSW (Mean Square Within): {MSW}\")\n",
    "print(f\"F-statistic: {F}\")\n",
    "print(f\"Critical value for F({df_between}, {df_within}) at alpha {alpha}: {F_critical}\")\n",
    "\n",
    "if F > F_critical:\n",
    "    print(\"Reject the null hypothesis. There are significant differences in productivity scores among the departments.\")\n",
    "else:\n",
    "    print(\"Fail to reject the null hypothesis. There are no significant differences in productivity scores among the departments.\")\n"
   ]
  },
  {
   "cell_type": "markdown",
   "metadata": {},
   "source": [
    "# **QUESTION TWO**"
   ]
  },
  {
   "cell_type": "markdown",
   "metadata": {},
   "source": [
    "# Evaluating the Effectiveness of Marketing Strategies on Customer Satisfaction\n",
    "\n",
    "## 1. Main Effect of Marketing Strategy\n",
    "\n",
    "**Question: Is there a significant difference in customer satisfaction scores between the two marketing strategies (Online Advertising vs. Print Advertising)?**\n",
    "\n",
    "### Steps to Analyze the Main Effect of Marketing Strategy:\n",
    "\n",
    "1. **Formulate Hypotheses:**\n",
    "   - **Null Hypothesis (H0):** There is no significant difference in customer satisfaction scores between Online Advertising and Print Advertising.\n",
    "   - **Alternative Hypothesis (H1):** There is a significant difference in customer satisfaction scores between Online Advertising and Print Advertising.\n",
    "\n",
    "2. **Data Collection:**\n",
    "   - Collect customer satisfaction scores from surveys.\n",
    "   - Group the data based on the marketing strategy used.\n",
    "\n",
    "3. **Perform Independent Samples T-Test:**\n",
    "   - Use an independent samples t-test to compare the means of customer satisfaction scores between the two marketing strategies.\n",
    "\n",
    "### Hypothetical Data:\n",
    "\n",
    "| Customer Demographic | Marketing Strategy | Customer Satisfaction Score |\n",
    "|----------------------|--------------------|-----------------------------|\n",
    "| Young Adults         | Online Advertising | 80                          |\n",
    "| Young Adults         | Print Advertising  | 75                          |\n",
    "| Middle-aged Adults   | Online Advertising | 85                          |\n",
    "| Middle-aged Adults   | Print Advertising  | 70                          |\n",
    "| Seniors              | Online Advertising | 90                          |\n",
    "| Seniors              | Print Advertising  | 65                          |\n"
   ]
  },
  {
   "cell_type": "markdown",
   "metadata": {},
   "source": [
    "### Python Code Implementation:"
   ]
  },
  {
   "cell_type": "markdown",
   "metadata": {},
   "source": [
    "* **Mean Scores:**\n",
    "Calculate the mean customer satisfaction scores for both marketing strategies.\n",
    "\n",
    "* **T-Test:**\n",
    "Conduct an independent samples t-test to compare the mean scores.\n",
    "\n",
    "* **Results:**\n",
    "\n",
    "Print the t-statistic and p-value.\n",
    "\n",
    "Compare the p-value to the significance level (alpha = 0.05) to determine if there is a significant difference between the two marketing strategies.\n",
    "\n",
    "By doing this, the company can determine if there is a significant difference in customer satisfaction scores between Online Advertising and Print Advertising."
   ]
  },
  {
   "cell_type": "code",
   "execution_count": 16,
   "metadata": {},
   "outputs": [
    {
     "name": "stdout",
     "output_type": "stream",
     "text": [
      "Mean customer satisfaction score for Online Advertising: 85.0\n",
      "Mean customer satisfaction score for Print Advertising: 70.0\n",
      "T-statistic: 3.6742346141747677\n",
      "P-value: 0.021311641128756713\n",
      "Reject the null hypothesis. There is a significant difference in customer satisfaction scores between Online Advertising and Print Advertising.\n"
     ]
    }
   ],
   "source": [
    "import numpy as np\n",
    "import scipy.stats as stats\n",
    "\n",
    "# Hypothetical data\n",
    "online_scores = [80, 85, 90]\n",
    "print_scores = [75, 70, 65]\n",
    "\n",
    "# Calculate means\n",
    "mean_online = np.mean(online_scores)\n",
    "mean_print = np.mean(print_scores)\n",
    "\n",
    "# Perform independent samples t-test\n",
    "t_stat, p_value = stats.ttest_ind(online_scores, print_scores)\n",
    "\n",
    "# Print the results\n",
    "print(f\"Mean customer satisfaction score for Online Advertising: {mean_online}\")\n",
    "print(f\"Mean customer satisfaction score for Print Advertising: {mean_print}\")\n",
    "print(f\"T-statistic: {t_stat}\")\n",
    "print(f\"P-value: {p_value}\")\n",
    "\n",
    "# Determine significance\n",
    "alpha = 0.05\n",
    "if p_value < alpha:\n",
    "    print(\"Reject the null hypothesis. There is a significant difference in customer satisfaction scores between Online Advertising and Print Advertising.\")\n",
    "else:\n",
    "    print(\"Fail to reject the null hypothesis. There is no significant difference in customer satisfaction scores between Online Advertising and Print Advertising.\")\n"
   ]
  },
  {
   "cell_type": "markdown",
   "metadata": {},
   "source": [
    "# Main Effect of Customer Demographic\n",
    "\n",
    "**Question:** Is there a significant difference in customer satisfaction scores among the three customer demographics (Young Adults, Middle-Aged Adults, Seniors)?\n"
   ]
  },
  {
   "cell_type": "markdown",
   "metadata": {},
   "source": [
    "* Hypothetical Data: The customer satisfaction scores are provided for three demographics: Young Adults, Middle-Aged Adults, and Seniors.\n",
    "\n",
    "* Combine Data: The data is combined into a single array for analysis.\n",
    "\n",
    "* Perform One-Way ANOVA: The stats.f_oneway function from the scipy.stats module is used to perform a one-way ANOVA.\n",
    "\n",
    "* Print Results: The F-statistic and P-value are printed.\n",
    "\n",
    "* Determine Significance: The significance level (alpha) is set at 0.05. If the P-value is less than alpha, we reject the null hypothesis, indicating a significant difference in customer satisfaction scores among the demographics. If the P-value is greater than alpha, we fail to reject the null hypothesis, indicating no significant difference."
   ]
  },
  {
   "cell_type": "markdown",
   "metadata": {},
   "source": [
    "### Python Code Implementation:"
   ]
  },
  {
   "cell_type": "code",
   "execution_count": 17,
   "metadata": {},
   "outputs": [
    {
     "name": "stdout",
     "output_type": "stream",
     "text": [
      "F-statistic: 56.818181818181856\n",
      "P-value: 2.1090789192945625e-10\n",
      "Reject the null hypothesis. There is a significant difference in customer satisfaction scores among the three customer demographics.\n"
     ]
    }
   ],
   "source": [
    "import numpy as np\n",
    "import scipy.stats as stats\n",
    "\n",
    "# Hypothetical data for customer satisfaction scores across different demographics\n",
    "young_adults_scores = [70, 75, 80, 72, 78, 74, 76, 77, 73, 79]\n",
    "middle_aged_scores = [65, 70, 75, 68, 72, 71, 74, 69, 67, 73]\n",
    "seniors_scores = [80, 85, 90, 83, 88, 84, 86, 87, 82, 89]\n",
    "\n",
    "# Combine data into a single array\n",
    "data = [young_adults_scores, middle_aged_scores, seniors_scores]\n",
    "\n",
    "# Perform one-way ANOVA\n",
    "f_stat, p_value = stats.f_oneway(young_adults_scores, middle_aged_scores, seniors_scores)\n",
    "\n",
    "# Print the results\n",
    "print(f\"F-statistic: {f_stat}\")\n",
    "print(f\"P-value: {p_value}\")\n",
    "\n",
    "# Determine significance\n",
    "alpha = 0.05\n",
    "if p_value < alpha:\n",
    "    print(\"Reject the null hypothesis. There is a significant difference in customer satisfaction scores among the three customer demographics.\")\n",
    "else:\n",
    "    print(\"Fail to reject the null hypothesis. There is no significant difference in customer satisfaction scores among the three customer demographics.\")\n"
   ]
  },
  {
   "cell_type": "markdown",
   "metadata": {},
   "source": [
    "# Interaction Effect between marketing Strategy and customer demographic\n",
    "\n",
    "**Question:**\n",
    "Is there a significant interaction effect between marketing strategy and customer demographic on customer satisfaction scores? In other words, does the effect of the marketing strategy on customer satisfaction depend on the customer demographic?"
   ]
  },
  {
   "cell_type": "markdown",
   "metadata": {},
   "source": [
    "* Hypothetical Data: The customer satisfaction scores are provided for different combinations of customer demographics (Young Adult, Middle-Aged, Senior) and marketing strategies (Online, Print).\n",
    "\n",
    "* DataFrame: The data is converted into a DataFrame using pandas.\n",
    "\n",
    "* Define ANOVA Model: The ANOVA model is defined using statsmodels' ols function. The formula specifies the interaction term between marketing strategy and customer demographic.\n",
    "\n",
    "* Perform ANOVA: The sm.stats.anova_lm function is used to perform the ANOVA and generate the ANOVA table.\n",
    "\n",
    "* Print ANOVA Table: The ANOVA table is printed.\n",
    "\n",
    "* Determine Significance: The significance level (alpha) is set at 0.05. If the interaction P-value is less than alpha, we reject the null hypothesis, indicating a significant interaction effect between marketing strategy and customer demographic on customer satisfaction scores. If the interaction P-value is greater than alpha, we fail to reject the null hypothesis, indicating no significant interaction effect."
   ]
  },
  {
   "cell_type": "markdown",
   "metadata": {},
   "source": [
    "### Python Code Implementation:"
   ]
  },
  {
   "cell_type": "code",
   "execution_count": 18,
   "metadata": {},
   "outputs": [
    {
     "name": "stdout",
     "output_type": "stream",
     "text": [
      "                                                    sum_sq    df           F  \\\n",
      "C(Marketing_Strategy)                           240.000000   1.0   23.376623   \n",
      "C(Customer_Demographic)                        2263.333333   2.0  110.227273   \n",
      "C(Marketing_Strategy):C(Customer_Demographic)    30.000000   2.0    1.461039   \n",
      "Residual                                        554.400000  54.0         NaN   \n",
      "\n",
      "                                                     PR(>F)  \n",
      "C(Marketing_Strategy)                          1.146579e-05  \n",
      "C(Customer_Demographic)                        8.628394e-20  \n",
      "C(Marketing_Strategy):C(Customer_Demographic)  2.410191e-01  \n",
      "Residual                                                NaN  \n",
      "Fail to reject the null hypothesis. There is no significant interaction effect between marketing strategy and customer demographic on customer satisfaction scores.\n"
     ]
    }
   ],
   "source": [
    "import pandas as pd\n",
    "import statsmodels.api as sm\n",
    "from statsmodels.formula.api import ols\n",
    "\n",
    "# Hypothetical data for customer satisfaction scores\n",
    "data = {\n",
    "    'Customer_Demographic': ['Young Adult']*10 + ['Middle-Aged']*10 + ['Senior']*10 +\n",
    "                            ['Young Adult']*10 + ['Middle-Aged']*10 + ['Senior']*10,\n",
    "    'Marketing_Strategy': ['Online']*30 + ['Print']*30,\n",
    "    'Satisfaction_Score': [70, 75, 80, 72, 78, 74, 76, 77, 73, 79,\n",
    "                           65, 70, 75, 68, 72, 71, 74, 69, 67, 73,\n",
    "                           80, 85, 90, 83, 88, 84, 86, 87, 82, 89,\n",
    "                           68, 73, 78, 70, 76, 72, 74, 75, 71, 77,\n",
    "                           60, 65, 70, 63, 67, 66, 69, 64, 62, 68,\n",
    "                           75, 80, 85, 78, 83, 79, 81, 82, 77, 84]\n",
    "}\n",
    "\n",
    "# Convert data into a DataFrame\n",
    "df = pd.DataFrame(data)\n",
    "\n",
    "# Define the ANOVA model\n",
    "model = ols('Satisfaction_Score ~ C(Marketing_Strategy) * C(Customer_Demographic)', data=df).fit()\n",
    "\n",
    "# Perform the ANOVA\n",
    "anova_table = sm.stats.anova_lm(model, typ=2)\n",
    "\n",
    "# Print the ANOVA table\n",
    "print(anova_table)\n",
    "\n",
    "# Determine significance\n",
    "alpha = 0.05\n",
    "interaction_p_value = anova_table['PR(>F)']['C(Marketing_Strategy):C(Customer_Demographic)']\n",
    "if interaction_p_value < alpha:\n",
    "    print(\"Reject the null hypothesis. There is a significant interaction effect between marketing strategy and customer demographic on customer satisfaction scores.\")\n",
    "else:\n",
    "    print(\"Fail to reject the null hypothesis. There is no significant interaction effect between marketing strategy and customer demographic on customer satisfaction scores.\")\n"
   ]
  },
  {
   "cell_type": "markdown",
   "metadata": {},
   "source": [
    "# **QUESTION THREE**"
   ]
  },
  {
   "cell_type": "markdown",
   "metadata": {},
   "source": [
    "# \n",
    "### 1. Perform a t-test to determine if the mean of 48 grams is significantly different from the claimed/hypothesized mean of 50 grams"
   ]
  },
  {
   "cell_type": "markdown",
   "metadata": {},
   "source": [
    "## Steps to Perform a T-test\n",
    "\n",
    "### Step 1: Formulate the Hypotheses\n",
    "* Null Hypothesis (H0): The mean weight of the chocolate bars is 50 grams.\n",
    "* Alternative Hypothesis (H1): The mean weight of the chocolate bars is not 50 grams.\n",
    "\n",
    "### Step 2: Collect and Organize Data\n",
    "* We have a sample mean of 48 grams, a sample size of 30 bars, and the claimed population mean is 50 grams.\n",
    "* Assume the standard deviation of the sample is known or can be calculated.\n",
    "\n",
    "### Step 3: Choose the Significance Level\n",
    "* The significance level (alpha) is usually set at 0.05.\n",
    "\n",
    "### Step 4: Perform the T-test\n",
    "* We use the one-sample t-test to compare the sample mean to the claimed population mean.\n",
    "\n",
    "### Step 5: Interpret the Results\n",
    "* Compare the p-value with the significance level to decide whether to reject or fail to reject the null hypothesis.\n"
   ]
  },
  {
   "cell_type": "markdown",
   "metadata": {},
   "source": [
    "### Python Code Implementation:"
   ]
  },
  {
   "cell_type": "code",
   "execution_count": 19,
   "metadata": {},
   "outputs": [
    {
     "name": "stdout",
     "output_type": "stream",
     "text": [
      "T-statistic: -inf\n",
      "P-value: 0.0\n",
      "Reject the null hypothesis. The mean weight is significantly different from 50 grams.\n"
     ]
    },
    {
     "name": "stderr",
     "output_type": "stream",
     "text": [
      "/usr/local/lib/python3.12/site-packages/scipy/stats/_axis_nan_policy.py:531: RuntimeWarning: Precision loss occurred in moment calculation due to catastrophic cancellation. This occurs when the data are nearly identical. Results may be unreliable.\n",
      "  res = hypotest_fun_out(*samples, **kwds)\n"
     ]
    }
   ],
   "source": [
    "# Import Libraries: Import necessary libraries numpy and scipy.stats.\n",
    "import numpy as np\n",
    "from scipy import stats\n",
    "\n",
    "# Given data\n",
    "# Define the sample mean, claimed mean, sample size, and sample standard deviation.\n",
    "sample_mean = 48\n",
    "claimed_mean = 50\n",
    "sample_size = 30\n",
    "sample_std_dev = 2  # Assume we know or can calculate the standard deviation\n",
    "\n",
    "# Calculate the standard error\n",
    "# The standard error is calculated as the sample standard deviation divided by the square root of the sample size.\n",
    "standard_error = sample_std_dev / np.sqrt(sample_size)\n",
    "\n",
    "# Perform the one-sample t-test\n",
    "# Use stats.ttest_1samp to perform the one-sample t-test. This function calculates the t-statistic and the p-value.\n",
    "t_statistic, p_value = stats.ttest_1samp(a=[48]*sample_size, popmean=claimed_mean)\n",
    "\n",
    "# Print the results\n",
    "# Print the t-statistic and the p-value.\n",
    "print(f\"T-statistic: {t_statistic}\")\n",
    "print(f\"P-value: {p_value}\")\n",
    "\n",
    "# Determine if we reject or fail to reject the null hypothesis\n",
    "# Compare the p-value with the significance level (alpha). \n",
    "# If the p-value is less than alpha, we reject the null hypothesis, \n",
    "# indicating that the mean weight is significantly different from 50 grams. \n",
    "# Otherwise, we fail to reject the null hypothesis.\n",
    "\n",
    "alpha = 0.05\n",
    "if p_value < alpha:\n",
    "    print(\"Reject the null hypothesis. The mean weight is significantly different from 50 grams.\")\n",
    "else:\n",
    "    print(\"Fail to reject the null hypothesis. The mean weight is not significantly different from 50 grams.\")\n"
   ]
  },
  {
   "cell_type": "markdown",
   "metadata": {},
   "source": [
    "* T-statistic: Measures the difference between the sample mean and the population mean in terms of standard errors.\n",
    "\n",
    "* P-value: Indicates the probability of obtaining a result at least as extreme as the observed result, assuming the null hypothesis is true.\n",
    "\n",
    "* Decision: Based on the p-value and the significance level, we conclude whether there is enough evidence to reject the null hypothesis.\n",
    "\n",
    "This method and explanation ensure a thorough understanding of the t-test process and its implementation in Python."
   ]
  },
  {
   "cell_type": "markdown",
   "metadata": {},
   "source": [
    "### 2. At a 95% confidence interval, is there enough evidence to reject the null hypothesis?"
   ]
  },
  {
   "cell_type": "markdown",
   "metadata": {},
   "source": [
    "## Steps to Perform a T-test and Calculate the 95% Confidence Interval\n",
    "\n",
    "### Step 1: Formulate the Hypotheses\n",
    "* Null Hypothesis (H0): The mean weight of the chocolate bars is 50 grams.\n",
    "* Alternative Hypothesis (H1): The mean weight of the chocolate bars is not 50 grams.\n",
    "\n",
    "### Step 2: Collect and Organize Data\n",
    "* We have a sample mean of 48 grams, a sample size of 30 bars, and the claimed population mean is 50 grams.\n",
    "* Assume the standard deviation of the sample is known or can be calculated (we'll assume it's 2 grams for this example).\n",
    "\n",
    "### Step 3: Choose the Significance Level\n",
    "* The significance level (alpha) is usually set at 0.05 (which corresponds to a 95% confidence level).\n",
    "\n",
    "### Step 4: Perform the T-test\n",
    "* We use the one-sample t-test to compare the sample mean to the claimed population mean.\n",
    "\n",
    "### Step 5: Calculate the 95% Confidence Interval\n",
    "* The confidence interval provides a range of values within which we expect the true population mean to lie with 95% confidence.\n",
    "\n",
    "### Step 6: Interpret the Results\n",
    "* Compare the confidence interval with the claimed mean to decide whether to reject or fail to reject the null hypothesis."
   ]
  },
  {
   "cell_type": "markdown",
   "metadata": {},
   "source": [
    "### Python Code Implementation:"
   ]
  },
  {
   "cell_type": "code",
   "execution_count": 20,
   "metadata": {},
   "outputs": [
    {
     "name": "stdout",
     "output_type": "stream",
     "text": [
      "T-statistic: -inf\n",
      "P-value: 0.0\n",
      "Reject the null hypothesis. The mean weight is significantly different from 50 grams.\n",
      "95% Confidence Interval: (47.2531877264838, 48.7468122735162)\n",
      "The 95% confidence interval does not include 50 grams, so there is enough evidence to reject the null hypothesis.\n"
     ]
    }
   ],
   "source": [
    "# Import Libraries: Import necessary libraries numpy and scipy.stats.\n",
    "import numpy as np\n",
    "from scipy import stats\n",
    "\n",
    "# Given data\n",
    "# Define the sample mean, claimed mean, sample size, and sample standard deviation.\n",
    "sample_mean = 48\n",
    "claimed_mean = 50\n",
    "sample_size = 30\n",
    "sample_std_dev = 2  # Assume we know or can calculate the standard deviation\n",
    "\n",
    "# Calculate the standard error\n",
    "# The standard error is calculated as the sample standard deviation divided by the square root of the sample size.\n",
    "standard_error = sample_std_dev / np.sqrt(sample_size)\n",
    "\n",
    "# Perform the one-sample t-test\n",
    "# Use stats.ttest_1samp to perform the one-sample t-test. This function calculates the t-statistic and the p-value.\n",
    "t_statistic, p_value = stats.ttest_1samp(a=[48]*sample_size, popmean=claimed_mean)\n",
    "\n",
    "# Print the results of the t-test\n",
    "# Print the t-statistic and the p-value.\n",
    "print(f\"T-statistic: {t_statistic}\")\n",
    "print(f\"P-value: {p_value}\")\n",
    "\n",
    "# Determine if we reject or fail to reject the null hypothesis\n",
    "# Compare the p-value with the significance level (alpha). \n",
    "# If the p-value is less than alpha, we reject the null hypothesis, \n",
    "# indicating that the mean weight is significantly different from 50 grams. \n",
    "# Otherwise, we fail to reject the null hypothesis.\n",
    "alpha = 0.05\n",
    "if p_value < alpha:\n",
    "    print(\"Reject the null hypothesis. The mean weight is significantly different from 50 grams.\")\n",
    "else:\n",
    "    print(\"Fail to reject the null hypothesis. The mean weight is not significantly different from 50 grams.\")\n",
    "\n",
    "# Calculate the 95% confidence interval\n",
    "# Use stats.t.interval to calculate the 95% confidence interval for the mean weight of the chocolate bars.\n",
    "confidence_level = 0.95\n",
    "degrees_freedom = sample_size - 1\n",
    "confidence_interval = stats.t.interval(confidence_level, degrees_freedom, sample_mean, standard_error)\n",
    "\n",
    "# Print the confidence interval\n",
    "# Print the calculated 95% confidence interval.\n",
    "print(f\"95% Confidence Interval: {confidence_interval}\")\n",
    "\n",
    "# Interpret the confidence interval\n",
    "# Check if the claimed mean (50 grams) lies within the 95% confidence interval. \n",
    "# If it does, there is not enough evidence to reject the null hypothesis. \n",
    "# If it doesn't, there is enough evidence to reject the null hypothesis.\n",
    "if confidence_interval[0] <= claimed_mean <= confidence_interval[1]:\n",
    "    print(\"The 95% confidence interval includes 50 grams, so there is not enough evidence to reject the null hypothesis.\")\n",
    "else:\n",
    "    print(\"The 95% confidence interval does not include 50 grams, so there is enough evidence to reject the null hypothesis.\")\n"
   ]
  },
  {
   "cell_type": "markdown",
   "metadata": {},
   "source": [
    "* T-statistic: Measures the difference between the sample mean and the population mean in terms of standard errors.\n",
    "\n",
    "* P-value: Indicates the probability of obtaining a result at least as extreme as the observed result, assuming the null hypothesis is true.\n",
    "\n",
    "* Confidence Interval: Provides a range of values within which we expect the true population mean to lie with 95% confidence.\n",
    "\n",
    "* Decision: Based on the p-value and the confidence interval, we conclude whether there is enough evidence to reject the null hypothesis."
   ]
  },
  {
   "cell_type": "markdown",
   "metadata": {},
   "source": [
    "\n",
    "\n",
    "\n",
    "\n",
    "# THANK YOU"
   ]
  }
 ],
 "metadata": {
  "kernelspec": {
   "display_name": "Python 3",
   "language": "python",
   "name": "python3"
  },
  "language_info": {
   "codemirror_mode": {
    "name": "ipython",
    "version": 3
   },
   "file_extension": ".py",
   "mimetype": "text/x-python",
   "name": "python",
   "nbconvert_exporter": "python",
   "pygments_lexer": "ipython3",
   "version": "3.12.2"
  }
 },
 "nbformat": 4,
 "nbformat_minor": 2
}
