{
 "cells": [
  {
   "cell_type": "markdown",
   "metadata": {},
   "source": [
    "# Final Year Exam\n",
    "**Name:**                   Remmy Bisimbeko  \n",
    "**Access Number:**          B26099  \n",
    "**Registration Number:**    J24M19/011  \n",
    "**Program:**                Masters of Data Science and Analytics  \n",
    "**Supervisor:**             Dr. David Ddumba\n",
    "\n",
    "**GitHub:**                 https://github.com/RemmyBisimbeko/Data-Science"
   ]
  },
  {
   "cell_type": "markdown",
   "metadata": {
    "vscode": {
     "languageId": "plaintext"
    }
   },
   "source": [
    "## Table of Contents\n",
    "\n",
    "1. [Introduction](#Introduction)\n",
    "1. [Section A](#Section-A)\n",
    "   - [Question 1](#Question-1)\n",
    "     - [(a) Define a random variable and distinguish between discrete and continuous random variables.](#Question-1a)\n",
    "     - [(b) Give examples of a discrete and a continuous random variable in the context of data science.](#Question-1b)\n",
    "2. [Problem Statement](#Problem-Statement)\n",
    "3. [Methodology](#Methodology)\n",
    "4. [Data Analysis](#Data-Analysis)\n",
    "5. [Results](#Results)\n",
    "6. [Conclusion](#Conclusion)"
   ]
  },
  {
   "cell_type": "markdown",
   "metadata": {
    "vscode": {
     "languageId": "plaintext"
    }
   },
   "source": [
    "\n",
    "# SECTION A <a id=\"Section-A\"></a>\n",
    "\n",
    "## Question 1 <a id=\"Question-1\"></a>\n",
    "\n",
    "### (a) Define a random variable and distinguish between discrete and continuous random variables. <a id=\"Question-1a\"></a>\n",
    "\n",
    "**Random Variable:**  \n",
    "A random variable is a variable whose values are determined by the outcomes of a random (or stochastic) phenomenon.\n",
    "\n",
    "- **Discrete Random Variable:**  \n",
    "  A discrete random variable can take on a countable number of distinct values. Examples include the number of heads in a series of coin flips, or the number of cars passing through a toll booth in an hour.\n",
    "  \n",
    "- **Continuous Random Variable:**  \n",
    "  A continuous random variable can take on an infinite number of possible values. Examples include the height of students in a class, or the amount of time it takes to complete a task.\n",
    "\n",
    "### (b) Give examples of a discrete and a continuous random variable in the context of data science. <a id=\"Question-1b\"></a>\n",
    "\n",
    "- **Discrete Random Variable Example:**  \n",
    "  The number of times a user clicks on an advertisement in a day.\n",
    "  \n",
    "- **Continuous Random Variable Example:**  \n",
    "  The time it takes for a user to complete a survey on a website.\n"
   ]
  },
  {
   "cell_type": "markdown",
   "metadata": {},
   "source": [
    "\n",
    "### (c) Given a random variable \\(X\\) with PDF \\( f(x) = \\lambda e^{-\\lambda x} \\) for \\( x \\geq 0 \\), derive the expressions for the mean and variance of \\(X\\).\n",
    "\n",
    "For an exponential distribution with PDF \\( f(x) = \\lambda e^{-\\lambda x} \\):\n",
    "\n",
    "- **Mean ( \\( \\mu \\) ):** \n",
    "  \\[\n",
    "  E(X) = \\int_0^\\infty x \\lambda e^{-\\lambda x} \\, dx = \\frac{1}{\\lambda}\n",
    "  \\]\n",
    "\n",
    "Let's derive the expected value (mean) of an exponential random variable in detail.\n",
    "\n",
    "An exponential random variable \\(X\\) with parameter \\(\\lambda\\) has the probability density function (PDF):\n",
    "\n",
    "\\[\n",
    "f(x) = \\lambda e^{-\\lambda x}, \\quad x \\geq 0\n",
    "\\]\n",
    "\n",
    "The expected value (mean) of \\(X\\) is calculated as:\n",
    "\n",
    "\\[\n",
    "E(X) = \\int_0^\\infty x \\cdot f(x) \\, dx\n",
    "\\]\n",
    "\n",
    "Substituting the PDF \\(f(x)\\) into the integral, we get:\n",
    "\n",
    "\\[\n",
    "E(X) = \\int_0^\\infty x \\cdot \\lambda e^{-\\lambda x} \\, dx\n",
    "\\]\n",
    "\n",
    "We can solve this integral using integration by parts. The formula for integration by parts is:\n",
    "\n",
    "\\[\n",
    "\\int u \\, dv = uv - \\int v \\, du\n",
    "\\]\n",
    "\n",
    "Let:\n",
    "\n",
    "\\[\n",
    "u = x \\quad \\Rightarrow \\quad du = dx\n",
    "\\]\n",
    "\\[\n",
    "dv = \\lambda e^{-\\lambda x} \\, dx \\quad \\Rightarrow \\quad v = -e^{-\\lambda x}\n",
    "\\]\n",
    "\n",
    "Using these, the integration by parts formula becomes:\n",
    "\n",
    "\\[\n",
    "\\int x \\lambda e^{-\\lambda x} \\, dx = x (-e^{-\\lambda x}) \\Big|_0^\\infty - \\int (-e^{-\\lambda x}) \\, dx\n",
    "\\]\n",
    "\n",
    "First, evaluate the term \\(x (-e^{-\\lambda x}) \\Big|_0^\\infty\\):\n",
    "\n",
    "As \\( x \\to \\infty \\), \\( x e^{-\\lambda x} \\) approaches 0 because the exponential term \\( e^{-\\lambda x} \\) decays faster than the linear term \\( x \\) grows. Therefore,\n",
    "\n",
    "\\[\n",
    "\\left[ -x e^{-\\lambda x} \\right]_0^\\infty = 0 - (0 \\cdot e^{0}) = 0 - 0 = 0\n",
    "\\]\n",
    "\n",
    "Now, evaluate the integral \\( \\int -e^{-\\lambda x} \\, dx \\):\n",
    "\n",
    "\\[\n",
    "\\int -e^{-\\lambda x} \\, dx = \\frac{-e^{-\\lambda x}}{-\\lambda} = \\frac{e^{-\\lambda x}}{\\lambda}\n",
    "\\]\n",
    "\n",
    "Substituting this back into our integration by parts formula:\n",
    "\n",
    "\\[\n",
    "\\int_0^\\infty x \\lambda e^{-\\lambda x} \\, dx = 0 - \\left[ \\frac{e^{-\\lambda x}}{\\lambda} \\right]_0^\\infty\n",
    "\\]\n",
    "\n",
    "Evaluate the term \\(\\left[ \\frac{e^{-\\lambda x}}{\\lambda} \\right]_0^\\infty\\):\n",
    "\n",
    "\\[\n",
    "\\left[ \\frac{e^{-\\lambda x}}{\\lambda} \\right]_0^\\infty = \\frac{e^{-\\lambda \\cdot \\infty}}{\\lambda} - \\frac{e^{-\\lambda \\cdot 0}}{\\lambda} = \\frac{0}{\\lambda} - \\frac{1}{\\lambda} = 0 - \\frac{1}{\\lambda} = -\\frac{1}{\\lambda}\n",
    "\\]\n",
    "\n",
    "Thus, we have:\n",
    "\n",
    "\\[\n",
    "E(X) = \\int_0^\\infty x \\lambda e^{-\\lambda x} \\, dx = \\frac{1}{\\lambda}\n",
    "\\]\n",
    "\n",
    "Therefore, the expected value (mean) of an exponential random variable \\(X\\) with parameter \\(\\lambda\\) is \\(\\frac{1}{\\lambda}\\).\n",
    "\n",
    "- **Variance ( \\( \\sigma^2 \\) ):**\n",
    "  \\[\n",
    "  \\text{Var}(X) = E(X^2) - [E(X)]^2\n",
    "  \\]\n",
    "  First, find \\( E(X^2) \\):\n",
    "  \\[\n",
    "  E(X^2) = \\int_0^\\infty x^2 \\lambda e^{-\\lambda x} \\, dx = \\frac{2}{\\lambda^2}\n",
    "  \\]\n",
    "  Therefore,\n",
    "  \\[\n",
    "  \\text{Var}(X) = \\frac{2}{\\lambda^2} - \\left(\\frac{1}{\\lambda}\\right)^2 = \\frac{2}{\\lambda^2} - \\frac{1}{\\lambda^2} = \\frac{1}{\\lambda^2}\n",
    "  \\]\n",
    "\n",
    "In summary, for an exponential random variable \\(X\\) with parameter \\(\\lambda\\):\n",
    "- The mean \\(E(X)\\) is \\(\\frac{1}{\\lambda}\\).\n",
    "- The variance \\(\\text{Var}(X)\\) is \\(\\frac{1}{\\lambda^2}\\)."
   ]
  },
  {
   "cell_type": "markdown",
   "metadata": {},
   "source": [
    "## Problem Statement <a id=\"Problem-Statement\"></a>\n",
    "\n",
    "Clearly state the problem you are addressing in this exam."
   ]
  },
  {
   "cell_type": "markdown",
   "metadata": {},
   "source": [
    "## Methodology <a id=\"Methodology\"></a>\n",
    "\n",
    "Describe the methods and approaches you will use to solve the problem."
   ]
  },
  {
   "cell_type": "markdown",
   "metadata": {},
   "source": [
    "## Data Analysis <a id=\"Data-Analysis\"></a>\n",
    "\n",
    "### Data Collection\n",
    "\n",
    "Explain how data is collected.\n",
    "\n",
    "### Data Preprocessing\n",
    "\n",
    "Describe the preprocessing steps you performed on the data.\n",
    "\n",
    "### Data Visualization\n",
    "\n",
    "Use Python code to visualize the data."
   ]
  }
 ],
 "metadata": {
  "kernelspec": {
   "display_name": "Python 3",
   "language": "python",
   "name": "python3"
  },
  "language_info": {
   "codemirror_mode": {
    "name": "ipython",
    "version": 3
   },
   "file_extension": ".py",
   "mimetype": "text/x-python",
   "name": "python",
   "nbconvert_exporter": "python",
   "pygments_lexer": "ipython3",
   "version": "3.12.2"
  }
 },
 "nbformat": 4,
 "nbformat_minor": 2
}
