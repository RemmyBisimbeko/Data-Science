{
 "cells": [
  {
   "cell_type": "markdown",
   "metadata": {},
   "source": [
    "# Final Year Exam\n",
    "**Name:**                   Remmy Bisimbeko  \n",
    "**Access Number:**          B26099  \n",
    "**Registration Number:**    J24M19/011  \n",
    "**Program:**                Masters of Data Science and Analytics  \n",
    "**Supervisor:**             Dr. David Ddumba\n",
    "\n",
    "**GitHub:**                 https://github.com/RemmyBisimbeko/Data-Science"
   ]
  },
  {
   "cell_type": "markdown",
   "metadata": {
    "vscode": {
     "languageId": "plaintext"
    }
   },
   "source": [
    "## Table of Contents\n",
    "\n",
    "1. [Introduction](#Introduction)\n",
    "2. [Problem Statement](#Problem-Statement)\n",
    "3. [Methodology](#Methodology)\n",
    "4. [Data Analysis](#Data-Analysis)\n",
    "5. [Results](#Results)\n",
    "6. [Conclusion](#Conclusion)"
   ]
  },
  {
   "cell_type": "markdown",
   "metadata": {
    "vscode": {
     "languageId": "plaintext"
    }
   },
   "source": [
    "## Introduction <a id=\"Introduction\"></a>\n",
    "Provide an introduction to the exam. Describe the purpose and objectives."
   ]
  },
  {
   "cell_type": "markdown",
   "metadata": {},
   "source": [
    "## Problem Statement <a id=\"Problem-Statement\"></a>\n",
    "\n",
    "Clearly state the problem you are addressing in this exam."
   ]
  },
  {
   "cell_type": "markdown",
   "metadata": {},
   "source": [
    "## Methodology <a id=\"Methodology\"></a>\n",
    "\n",
    "Describe the methods and approaches you will use to solve the problem."
   ]
  },
  {
   "cell_type": "markdown",
   "metadata": {},
   "source": [
    "## Data Analysis <a id=\"Data-Analysis\"></a>\n",
    "\n",
    "### Data Collection\n",
    "\n",
    "Explain how data is collected.\n",
    "\n",
    "### Data Preprocessing\n",
    "\n",
    "Describe the preprocessing steps you performed on the data.\n",
    "\n",
    "### Data Visualization\n",
    "\n",
    "Use Python code to visualize the data."
   ]
  }
 ],
 "metadata": {
  "language_info": {
   "name": "python"
  }
 },
 "nbformat": 4,
 "nbformat_minor": 2
}
