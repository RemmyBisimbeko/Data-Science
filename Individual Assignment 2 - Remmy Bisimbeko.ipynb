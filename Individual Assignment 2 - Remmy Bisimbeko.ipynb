{
 "cells": [
  {
   "cell_type": "markdown",
   "metadata": {},
   "source": [
    "Assignment 2: Individual Assignment\n",
    "\n",
    "## Remmy Bisimbeko - B26099 - J24M19/011\n",
    "\n",
    "Q1. You are provided with a dataset labelled \"arrhythmia-1_data.csv\" and a description of the variables within the file \"arrhythmia.names.txt\". \n",
    "\n",
    "Transform the dataset and use it to determine the features (variables) that affect the Heart rate. (10 Marks).\n",
    "\n",
    "\n",
    "Q2. The dataset \"Loan_Approval_Data.csv\" is used by a banking institution to determine if a loan gets approved or not using various features. Transform the dataset prior to attempting the questions. (Loan_Approval_Data.csv )\n",
    "\n",
    "a) Determine which features affect the \"Loan_Status\" (10 Marks)\n",
    "b) Using a machine learning model, determine if the Loan_Status of; \n",
    "\n",
    "i) A female  with the following variables (married, zero dependents, a graduate education, self employed, An Applicant Income of 2000 dollars, CoApplicant Income of 5000 dollars, requesting for a Loan_Amount_Term of 365 days, With No credit history=0, and living in a Semiurban area). (5 Marks)\n",
    "\n",
    "ii) A male with the following variables (single, 2 dependents, graduate education, employed by a private company, an Applicant income of 4800 dollars, CoApplicant Income of zero (0), requesting a Loan_Amount_Term of 480 days, With credit history =1, and living in an Urban area). (5 Marks)\n",
    "\n"
   ]
  },
  {
   "cell_type": "code",
   "execution_count": 3,
   "metadata": {},
   "outputs": [],
   "source": [
    "# Import Libraries\n",
    "import pandas as pd\n",
    "import numpy as np"
   ]
  },
  {
   "cell_type": "code",
   "execution_count": 9,
   "metadata": {},
   "outputs": [
    {
     "data": {
      "text/html": [
       "<div>\n",
       "<style scoped>\n",
       "    .dataframe tbody tr th:only-of-type {\n",
       "        vertical-align: middle;\n",
       "    }\n",
       "\n",
       "    .dataframe tbody tr th {\n",
       "        vertical-align: top;\n",
       "    }\n",
       "\n",
       "    .dataframe thead th {\n",
       "        text-align: right;\n",
       "    }\n",
       "</style>\n",
       "<table border=\"1\" class=\"dataframe\">\n",
       "  <thead>\n",
       "    <tr style=\"text-align: right;\">\n",
       "      <th></th>\n",
       "      <th>Age</th>\n",
       "      <th>Sex</th>\n",
       "      <th>Height</th>\n",
       "      <th>Weight</th>\n",
       "      <th>QRS Duration</th>\n",
       "      <th>P-R interval</th>\n",
       "      <th>Q-T interval</th>\n",
       "      <th>T interval</th>\n",
       "      <th>P interval</th>\n",
       "      <th>QRS</th>\n",
       "      <th>T</th>\n",
       "      <th>P</th>\n",
       "      <th>QRST</th>\n",
       "      <th>J</th>\n",
       "      <th>Heart rate</th>\n",
       "    </tr>\n",
       "  </thead>\n",
       "  <tbody>\n",
       "    <tr>\n",
       "      <th>0</th>\n",
       "      <td>75</td>\n",
       "      <td>0</td>\n",
       "      <td>190</td>\n",
       "      <td>80</td>\n",
       "      <td>91</td>\n",
       "      <td>193</td>\n",
       "      <td>371</td>\n",
       "      <td>174</td>\n",
       "      <td>121</td>\n",
       "      <td>-16</td>\n",
       "      <td>13.0</td>\n",
       "      <td>64.0</td>\n",
       "      <td>-2.0</td>\n",
       "      <td>NaN</td>\n",
       "      <td>63.0</td>\n",
       "    </tr>\n",
       "    <tr>\n",
       "      <th>1</th>\n",
       "      <td>56</td>\n",
       "      <td>1</td>\n",
       "      <td>165</td>\n",
       "      <td>64</td>\n",
       "      <td>81</td>\n",
       "      <td>174</td>\n",
       "      <td>401</td>\n",
       "      <td>149</td>\n",
       "      <td>39</td>\n",
       "      <td>25</td>\n",
       "      <td>37.0</td>\n",
       "      <td>-17.0</td>\n",
       "      <td>31.0</td>\n",
       "      <td>NaN</td>\n",
       "      <td>53.0</td>\n",
       "    </tr>\n",
       "    <tr>\n",
       "      <th>2</th>\n",
       "      <td>54</td>\n",
       "      <td>0</td>\n",
       "      <td>172</td>\n",
       "      <td>95</td>\n",
       "      <td>138</td>\n",
       "      <td>163</td>\n",
       "      <td>386</td>\n",
       "      <td>185</td>\n",
       "      <td>102</td>\n",
       "      <td>96</td>\n",
       "      <td>34.0</td>\n",
       "      <td>70.0</td>\n",
       "      <td>66.0</td>\n",
       "      <td>23.0</td>\n",
       "      <td>75.0</td>\n",
       "    </tr>\n",
       "    <tr>\n",
       "      <th>3</th>\n",
       "      <td>55</td>\n",
       "      <td>0</td>\n",
       "      <td>175</td>\n",
       "      <td>94</td>\n",
       "      <td>100</td>\n",
       "      <td>202</td>\n",
       "      <td>380</td>\n",
       "      <td>179</td>\n",
       "      <td>143</td>\n",
       "      <td>28</td>\n",
       "      <td>11.0</td>\n",
       "      <td>-5.0</td>\n",
       "      <td>20.0</td>\n",
       "      <td>NaN</td>\n",
       "      <td>71.0</td>\n",
       "    </tr>\n",
       "    <tr>\n",
       "      <th>4</th>\n",
       "      <td>75</td>\n",
       "      <td>0</td>\n",
       "      <td>190</td>\n",
       "      <td>80</td>\n",
       "      <td>88</td>\n",
       "      <td>181</td>\n",
       "      <td>360</td>\n",
       "      <td>177</td>\n",
       "      <td>103</td>\n",
       "      <td>-16</td>\n",
       "      <td>13.0</td>\n",
       "      <td>61.0</td>\n",
       "      <td>3.0</td>\n",
       "      <td>NaN</td>\n",
       "      <td>NaN</td>\n",
       "    </tr>\n",
       "  </tbody>\n",
       "</table>\n",
       "</div>"
      ],
      "text/plain": [
       "   Age  Sex  Height  Weight  QRS Duration  P-R interval  Q-T interval  \\\n",
       "0   75    0     190      80            91           193           371   \n",
       "1   56    1     165      64            81           174           401   \n",
       "2   54    0     172      95           138           163           386   \n",
       "3   55    0     175      94           100           202           380   \n",
       "4   75    0     190      80            88           181           360   \n",
       "\n",
       "   T interval  P interval  QRS     T     P  QRST     J  Heart rate  \n",
       "0         174         121  -16  13.0  64.0  -2.0   NaN        63.0  \n",
       "1         149          39   25  37.0 -17.0  31.0   NaN        53.0  \n",
       "2         185         102   96  34.0  70.0  66.0  23.0        75.0  \n",
       "3         179         143   28  11.0  -5.0  20.0   NaN        71.0  \n",
       "4         177         103  -16  13.0  61.0   3.0   NaN         NaN  "
      ]
     },
     "execution_count": 9,
     "metadata": {},
     "output_type": "execute_result"
    }
   ],
   "source": [
    "# Read the Data Set while replacing '?' values with NaN\n",
    "df = pd.read_csv(\"Data Sets/arrhythmia-1.data.csv\", na_values='?')\n",
    "\n",
    "# Convert columns to numeric\n",
    "df = df.apply(pd.to_numeric, errors='coerce')\n",
    "df.head()"
   ]
  },
  {
   "cell_type": "markdown",
   "metadata": {},
   "source": [
    "QN 1. Transform the dataset and use it to determine the features (variables) that affect the Heart rate"
   ]
  },
  {
   "cell_type": "markdown",
   "metadata": {},
   "source": [
    "We can determine the features that affect heart rate, you can perform a regression analysis, such as linear regression, where heart rate is the dependent variable and the other variables (Age, Sex, Height, Weight, etc.) are independent variables.\n",
    "\n",
    "Let us import the statsmodels library:\n",
    "statsmodels is a Python module that provides classes and functions for the estimation of many different statistical models, as well as for conducting statistical tests, and statistical data exploration. An extensive list of result statistics are available for each estimator. The results are tested against existing statistical packages to ensure that they are correct. The package is released under the open source Modified BSD (3-clause) license. The online documentation is hosted at statsmodels.org."
   ]
  },
  {
   "cell_type": "code",
   "execution_count": 4,
   "metadata": {},
   "outputs": [],
   "source": [
    "# Import statsmodels library\n",
    "import statsmodels.api as sm"
   ]
  },
  {
   "cell_type": "code",
   "execution_count": 12,
   "metadata": {},
   "outputs": [],
   "source": [
    "# Let us get the relevant variables\n",
    "X = df[['Age', 'Sex', 'Height', 'Weight', 'QRS Duration', 'P-R interval', 'Q-T interval', 'T interval', 'P interval', 'QRS', 'T', 'P', 'QRST', 'J']]\n",
    "y = df['Heart rate']"
   ]
  },
  {
   "cell_type": "code",
   "execution_count": 13,
   "metadata": {},
   "outputs": [],
   "source": [
    "# Let's add  aconstant term\n",
    "X = sm.add_constant(X)"
   ]
  },
  {
   "cell_type": "code",
   "execution_count": 14,
   "metadata": {},
   "outputs": [],
   "source": [
    "# Handlinf the  missing values\n",
    "X.fillna(X.mean(), inplace=True)\n",
    "y.fillna(y.mean(), inplace=True)"
   ]
  },
  {
   "cell_type": "code",
   "execution_count": 15,
   "metadata": {},
   "outputs": [
    {
     "name": "stdout",
     "output_type": "stream",
     "text": [
      "                            OLS Regression Results                            \n",
      "==============================================================================\n",
      "Dep. Variable:             Heart rate   R-squared:                       0.529\n",
      "Model:                            OLS   Adj. R-squared:                  0.514\n",
      "Method:                 Least Squares   F-statistic:                     35.04\n",
      "Date:                Sun, 18 Feb 2024   Prob (F-statistic):           1.43e-62\n",
      "Time:                        14:18:14   Log-Likelihood:                -1658.9\n",
      "No. Observations:                 452   AIC:                             3348.\n",
      "Df Residuals:                     437   BIC:                             3410.\n",
      "Df Model:                          14                                         \n",
      "Covariance Type:            nonrobust                                         \n",
      "================================================================================\n",
      "                   coef    std err          t      P>|t|      [0.025      0.975]\n",
      "--------------------------------------------------------------------------------\n",
      "const          146.5380      7.024     20.863      0.000     132.733     160.343\n",
      "Age             -0.0154      0.032     -0.488      0.626      -0.078       0.047\n",
      "Sex              5.6785      1.044      5.441      0.000       3.627       7.730\n",
      "Height           0.0547      0.013      4.229      0.000       0.029       0.080\n",
      "Weight          -0.0514      0.031     -1.633      0.103      -0.113       0.010\n",
      "QRS Duration     0.1501      0.036      4.220      0.000       0.080       0.220\n",
      "P-R interval    -0.0286      0.014     -2.055      0.040      -0.056      -0.001\n",
      "Q-T interval    -0.2847      0.016    -18.169      0.000      -0.315      -0.254\n",
      "T interval       0.0450      0.014      3.159      0.002       0.017       0.073\n",
      "P interval       0.0813      0.024      3.344      0.001       0.034       0.129\n",
      "QRS             -0.0094      0.015     -0.614      0.540      -0.039       0.021\n",
      "T                0.0086      0.009      0.942      0.346      -0.009       0.026\n",
      "P                0.0010      0.017      0.062      0.950      -0.032       0.034\n",
      "QRST             0.0133      0.020      0.673      0.501      -0.026       0.052\n",
      "J               -0.0037      0.009     -0.397      0.691      -0.022       0.015\n",
      "==============================================================================\n",
      "Omnibus:                       42.653   Durbin-Watson:                   1.949\n",
      "Prob(Omnibus):                  0.000   Jarque-Bera (JB):               80.380\n",
      "Skew:                           0.569   Prob(JB):                     3.51e-18\n",
      "Kurtosis:                       4.725   Cond. No.                     7.67e+03\n",
      "==============================================================================\n",
      "\n",
      "Notes:\n",
      "[1] Standard Errors assume that the covariance matrix of the errors is correctly specified.\n",
      "[2] The condition number is large, 7.67e+03. This might indicate that there are\n",
      "strong multicollinearity or other numerical problems.\n"
     ]
    }
   ],
   "source": [
    "# Nown, we fit the regression model\n",
    "model = sm.OLS(y, X).fit()\n",
    "\n",
    "# And Print the summary of the regression model\n",
    "print(model.summary())"
   ]
  },
  {
   "cell_type": "markdown",
   "metadata": {},
   "source": [
    "Sources: \n",
    "https://www.statsmodels.org/stable/index.html"
   ]
  }
 ],
 "metadata": {
  "kernelspec": {
   "display_name": "Python 3",
   "language": "python",
   "name": "python3"
  },
  "language_info": {
   "codemirror_mode": {
    "name": "ipython",
    "version": 3
   },
   "file_extension": ".py",
   "mimetype": "text/x-python",
   "name": "python",
   "nbconvert_exporter": "python",
   "pygments_lexer": "ipython3",
   "version": "3.9.8"
  }
 },
 "nbformat": 4,
 "nbformat_minor": 2
}
