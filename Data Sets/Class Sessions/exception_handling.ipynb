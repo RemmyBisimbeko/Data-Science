{
 "cells": [
  {
   "cell_type": "code",
   "execution_count": 4,
   "metadata": {},
   "outputs": [
    {
     "name": "stdout",
     "output_type": "stream",
     "text": [
      "11.5\n",
      "Exception completed\n"
     ]
    }
   ],
   "source": [
    "try:\n",
    "    print(23/2)\n",
    "except ZeroDivisionError as ze:\n",
    "    print(\"Cannot divide by zero\")\n",
    "    print(\"\\n\\n\")\n",
    "finally: \n",
    "    print(\"Exception completed\")"
   ]
  },
  {
   "cell_type": "code",
   "execution_count": 2,
   "metadata": {},
   "outputs": [
    {
     "name": "stdout",
     "output_type": "stream",
     "text": [
      "Index out of range\n"
     ]
    }
   ],
   "source": [
    "lst = [1, 2, 3, 4, 5, 6, 7, 8, 9, 10]\n",
    "i = 15\n",
    "if i > len(lst):\n",
    "    print(\"Index out of range\")\n",
    "else:\n",
    "    print(\"Whatever\")"
   ]
  },
  {
   "cell_type": "code",
   "execution_count": 5,
   "metadata": {},
   "outputs": [],
   "source": [
    "while True:\n",
    "    try: \n",
    "        filename =  input(\"Enter the name of a file to be opened : \")   # Asking user for the file he/she wants to open.\n",
    "        with open(filename, 'r') as file:\n",
    "            content = file.read()\n",
    "            print(content)\n",
    "    except FileNotFoundError:\n",
    "        print(\"File {filename} not found\") "
   ]
  },
  {
   "cell_type": "code",
   "execution_count": 1,
   "metadata": {},
   "outputs": [],
   "source": [
    "class Student:\n",
    "    def __init__(name, course):\n",
    "        if not name:\n",
    "            raise ValueError(\"Missing name\")\n",
    "        if course not in [\"cs\", \"ds\", \"it\"]:\n",
    "            raise ValueError(\"Invalid course. Choose cs, ds or it.\")\n",
    "        \n",
    "        self.name = name\n",
    "        self.course = course\n",
    "    \n",
    "    def __str__(self):\n",
    "        return f\"My name is {self.name} and I am studying {self.course} course\"\n",
    "\n",
    "def main():\n",
    "    student = get_student()\n",
    "    print(student)\n",
    "    # print(\"Name of the student is {student['name']} and  he/she studies in {student['course']}\".format(student.name, student.course))\n",
    "def get_student():\n",
    "    student = {}\n",
    "    name = input(\"Name: \")\n",
    "    course = input(\"Course: \")\n",
    "    return Student(name, course)\n",
    "\n",
    "if __name__ == \"__main__\":\n",
    "    main()"
   ]
  },
  {
   "cell_type": "code",
   "execution_count": null,
   "metadata": {},
   "outputs": [],
   "source": [
    "class StudentNotFound(Exception):\n",
    "    def  __init__(self, studen_age, message=\"Student not found\"):\n",
    "        self.student_age = student_age\n",
    "        self.error_message = error_message\n",
    "\n",
    "age = int(input(\"Enter the age of the student: \"))\n",
    "if not 6 < age < 8;\n",
    "    raise StudentOutofRangeError(age)\n",
    "    "
   ]
  },
  {
   "cell_type": "code",
   "execution_count": 5,
   "metadata": {},
   "outputs": [],
   "source": [
    "class Iterator:\n",
    "    def __init__(self, limit):\n",
    "        self.limit = limit\n",
    "\n",
    "    def __iter__(self):\n",
    "        self.i = 0\n",
    "        return self\n",
    "\n",
    "    def __next__(self):\n",
    "        if self.i <= self.limit:\n",
    "            nextvalue = self.i \n",
    "            self.i = self.i + 2\n",
    "            return nextvalue\n",
    "        else:\n",
    "            raise StopIteration"
   ]
  },
  {
   "cell_type": "code",
   "execution_count": 6,
   "metadata": {},
   "outputs": [
    {
     "name": "stdout",
     "output_type": "stream",
     "text": [
      "0\n",
      "2\n",
      "4\n",
      "6\n",
      "8\n",
      "10\n",
      "12\n",
      "14\n",
      "16\n",
      "18\n",
      "20\n"
     ]
    }
   ],
   "source": [
    "for j in Iterator(20):\n",
    "    print(j)"
   ]
  },
  {
   "cell_type": "code",
   "execution_count": null,
   "metadata": {},
   "outputs": [],
   "source": [
    "from intertools import count\n",
    "own_inter = count(1)\n",
    "\n",
    "number  = int (input(\"Enter a number: \"))\n",
    "for i in range(number):\n",
    "    print(next(own_inter), end=\" \")"
   ]
  },
  {
   "cell_type": "markdown",
   "metadata": {},
   "source": [
    "Functions"
   ]
  },
  {
   "cell_type": "code",
   "execution_count": 8,
   "metadata": {},
   "outputs": [
    {
     "data": {
      "text/plain": [
       "64"
      ]
     },
     "execution_count": 8,
     "metadata": {},
     "output_type": "execute_result"
    }
   ],
   "source": [
    "def square(number):\n",
    "    return number**2\n",
    "square(8)"
   ]
  },
  {
   "cell_type": "markdown",
   "metadata": {},
   "source": [
    "Lambda Function - One off function, an anynmous Function"
   ]
  },
  {
   "cell_type": "code",
   "execution_count": 9,
   "metadata": {},
   "outputs": [],
   "source": [
    "def square(number): return number**2 "
   ]
  },
  {
   "cell_type": "code",
   "execution_count": 10,
   "metadata": {},
   "outputs": [
    {
     "data": {
      "text/plain": [
       "64"
      ]
     },
     "execution_count": 10,
     "metadata": {},
     "output_type": "execute_result"
    }
   ],
   "source": [
    "lamb = lambda number: number**2\n",
    "lamb(8)"
   ]
  },
  {
   "cell_type": "code",
   "execution_count": 11,
   "metadata": {},
   "outputs": [
    {
     "data": {
      "text/plain": [
       "[1, 4, 9, 16, 25, 36, 49, 64, 81]"
      ]
     },
     "execution_count": 11,
     "metadata": {},
     "output_type": "execute_result"
    }
   ],
   "source": [
    "lst = [1, 2, 3, 4, 5, 6, 7, 8, 9]\n",
    "lst2 = list(map(lamb, lst))\n",
    "lst2"
   ]
  },
  {
   "cell_type": "code",
   "execution_count": 13,
   "metadata": {},
   "outputs": [
    {
     "data": {
      "text/plain": [
       "6"
      ]
     },
     "execution_count": 13,
     "metadata": {},
     "output_type": "execute_result"
    }
   ],
   "source": [
    "def myfunc(a, b):\n",
    "    return sum((a, b))\n",
    "myfunc(2, 4)"
   ]
  },
  {
   "cell_type": "code",
   "execution_count": 18,
   "metadata": {},
   "outputs": [
    {
     "data": {
      "text/plain": [
       "13"
      ]
     },
     "execution_count": 18,
     "metadata": {},
     "output_type": "execute_result"
    }
   ],
   "source": [
    "def myfanc(a, b, c, d, e, f, g =1, h=0):\n",
    "# def myfac(*args): * means many args, only one args means one only\n",
    "    return sum((a, b, c, d, e, f, g, h))\n",
    "\n",
    "myfanc(2, 2, 2, 2, 2, 2)\n",
    "# Just the 2s are replacing the positional up"
   ]
  }
 ],
 "metadata": {
  "kernelspec": {
   "display_name": "Python 3",
   "language": "python",
   "name": "python3"
  },
  "language_info": {
   "codemirror_mode": {
    "name": "ipython",
    "version": 3
   },
   "file_extension": ".py",
   "mimetype": "text/x-python",
   "name": "python",
   "nbconvert_exporter": "python",
   "pygments_lexer": "ipython3",
   "version": "3.9.8"
  }
 },
 "nbformat": 4,
 "nbformat_minor": 2
}
